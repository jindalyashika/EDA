{
  "cells": [
    {
      "cell_type": "markdown",
      "metadata": {
        "id": "view-in-github",
        "colab_type": "text"
      },
      "source": [
        "<a href=\"https://colab.research.google.com/github/jindalyashika/EDA/blob/main/Copy_of_PythonEDA.ipynb\" target=\"_parent\"><img src=\"https://colab.research.google.com/assets/colab-badge.svg\" alt=\"Open In Colab\"/></a>"
      ]
    },
    {
      "cell_type": "markdown",
      "metadata": {
        "id": "TOvht7vqQGdR",
        "papermill": {
          "duration": 0.030335,
          "end_time": "2020-11-27T11:52:28.446538",
          "exception": false,
          "start_time": "2020-11-27T11:52:28.416203",
          "status": "completed"
        },
        "tags": []
      },
      "source": [
        "# **EXPLORATORY DATA ANALYSIS IN PYTHON**"
      ]
    },
    {
      "cell_type": "markdown",
      "metadata": {
        "id": "8hg00soETQ3z",
        "papermill": {
          "duration": 0.027462,
          "end_time": "2020-11-27T11:52:28.721524",
          "exception": false,
          "start_time": "2020-11-27T11:52:28.694062",
          "status": "completed"
        },
        "tags": []
      },
      "source": [
        "**What is Exploratory Data Analysis ?**\n",
        "\n",
        " Exploratory Data Analysis (EDA) is the process of examining and summarizing a dataset to understand its characteristics, identify patterns, and make informed decisions. It involves calculating summary statistics, visualizing data through plots and charts, identifying missing or inconsistent data, and exploring relationships between variables. EDA provides insights that guide further analysis and decision-making.\n",
        "\n",
        " EDA helps determine how best to manipulate data sources to get the answers you need, making it easier for data scientists to discover patterns, spot anomalies, test a hypothesis, or check assumptions."
      ]
    },
    {
      "cell_type": "markdown",
      "metadata": {
        "id": "ZfelutoyTS25",
        "papermill": {
          "duration": 0.02704,
          "end_time": "2020-11-27T11:52:28.776144",
          "exception": false,
          "start_time": "2020-11-27T11:52:28.749104",
          "status": "completed"
        },
        "tags": []
      },
      "source": [
        "**How to perform Exploratory Data Analysis ?**\n",
        "\n",
        "Performing EDA involves the following concise steps:\n",
        "\n",
        "1. **Understand the Data:** Get familiar with the dataset's structure, variables, and potential missing values or inconsistencies.\n",
        "\n",
        "2. **Clean the Data:** Handle missing values, erroneous data and duplicates appropriately.\n",
        "\n",
        "3. **Data Transformation:** Rename confusing columns for better readability and drop Irrelevant Columns.\n",
        "\n",
        "4. **Calculate Summary Statistics:** Compute basic statistics like mean, median, and standard deviation for numeric variables, and frequency counts for categorical variables.\n",
        "\n",
        "5. **Visualize the Data:** Create plots such as histograms, box plots, and scatter plots to visualize the data distribution, outliers, and relationships between variables.\n",
        "\n",
        "6. **Analyze Relationships:** Identify correlations between numeric variables and visualize them using correlation matrices or scatter plots.\n",
        "\n",
        "7. **Identify Outliers and Anomalies:** Spot unusual observations that deviate significantly from the norm.\n",
        "\n",
        "8. **Handle Categorical Variables:** Analyze categorical variables using bar plots or pie charts to understand category distributions.\n",
        "\n",
        "9. **Iterate and Explore:** Continuously explore the data, generate hypotheses, and delve deeper into specific aspects for further analysis.\n"
      ]
    },
    {
      "cell_type": "markdown",
      "metadata": {
        "id": "n3VfNkBBw15s",
        "papermill": {
          "duration": 0.027082,
          "end_time": "2020-11-27T11:52:28.830620",
          "exception": false,
          "start_time": "2020-11-27T11:52:28.803538",
          "status": "completed"
        },
        "tags": []
      },
      "source": [
        "**What data are we exploring today ?**\n",
        "\n",
        "\n",
        "\n",
        "We have a data-set of cars which contains more of 441 rows and 9 columns which contains features of the Wholesale customer such as Channel,Region,Fresh,Milk,Frozen and many more."
      ]
    },
    {
      "cell_type": "markdown",
      "source": [
        "### **Task** : Find best product to sale.\n"
      ],
      "metadata": {
        "id": "0DXajqKNs5ui"
      }
    },
    {
      "cell_type": "markdown",
      "metadata": {
        "id": "CQDO4JCqTThV",
        "papermill": {
          "duration": 0.027108,
          "end_time": "2020-11-27T11:52:28.885282",
          "exception": false,
          "start_time": "2020-11-27T11:52:28.858174",
          "status": "completed"
        },
        "tags": []
      },
      "source": [
        "\n",
        "\n",
        "---\n",
        "\n"
      ]
    },
    {
      "cell_type": "markdown",
      "metadata": {
        "id": "FPSqz1wzTXvz",
        "papermill": {
          "duration": 0.027001,
          "end_time": "2020-11-27T11:52:28.939572",
          "exception": false,
          "start_time": "2020-11-27T11:52:28.912571",
          "status": "completed"
        },
        "tags": []
      },
      "source": [
        "## 1. Importing the required libraries for EDA"
      ]
    },
    {
      "cell_type": "markdown",
      "metadata": {
        "id": "9eLMx1Ebwa92",
        "papermill": {
          "duration": 0.027148,
          "end_time": "2020-11-27T11:52:28.994036",
          "exception": false,
          "start_time": "2020-11-27T11:52:28.966888",
          "status": "completed"
        },
        "tags": []
      },
      "source": [
        "Below are the libraries that are used in order to perform EDA (Exploratory data analysis) in this tutorial."
      ]
    },
    {
      "cell_type": "code",
      "execution_count": 3,
      "metadata": {
        "execution": {
          "iopub.execute_input": "2020-11-27T11:52:29.055248Z",
          "iopub.status.busy": "2020-11-27T11:52:29.054583Z",
          "iopub.status.idle": "2020-11-27T11:52:30.054016Z",
          "shell.execute_reply": "2020-11-27T11:52:30.053317Z"
        },
        "id": "GGyDovL2QDLa",
        "papermill": {
          "duration": 1.032787,
          "end_time": "2020-11-27T11:52:30.054137",
          "exception": false,
          "start_time": "2020-11-27T11:52:29.021350",
          "status": "completed"
        },
        "tags": []
      },
      "outputs": [],
      "source": [
        "import pandas as pd\n",
        "import numpy as np\n",
        "import seaborn as sns\n",
        "import matplotlib.pyplot as plt\n",
        "#%matplotlib inline\n",
        "#sns.set(color_codes=True)"
      ]
    },
    {
      "cell_type": "markdown",
      "metadata": {
        "id": "8Y3Z2DbKTfJt",
        "papermill": {
          "duration": 0.027409,
          "end_time": "2020-11-27T11:52:30.165749",
          "exception": false,
          "start_time": "2020-11-27T11:52:30.138340",
          "status": "completed"
        },
        "tags": []
      },
      "source": [
        "## 2. Loading the data into the data frame."
      ]
    },
    {
      "cell_type": "markdown",
      "metadata": {
        "id": "ko5zGJFCySaz",
        "papermill": {
          "duration": 0.027623,
          "end_time": "2020-11-27T11:52:30.221200",
          "exception": false,
          "start_time": "2020-11-27T11:52:30.193577",
          "status": "completed"
        },
        "tags": []
      },
      "source": [
        "Loading the data into the pandas data frame is certainly one of the most important steps in EDA, as we can see that the value from the data set is comma-separated. So all we have to do is to just read the CSV into a data frame and pandas data frame does the job for us."
      ]
    },
    {
      "cell_type": "code",
      "execution_count": 5,
      "metadata": {
        "execution": {
          "iopub.execute_input": "2020-11-27T11:52:30.341297Z",
          "iopub.status.busy": "2020-11-27T11:52:30.340585Z",
          "iopub.status.idle": "2020-11-27T11:52:30.408536Z",
          "shell.execute_reply": "2020-11-27T11:52:30.409040Z"
        },
        "id": "0oVZnezwQ159",
        "outputId": "70298cfc-2a24-4098-e430-46be50a203e7",
        "papermill": {
          "duration": 0.104836,
          "end_time": "2020-11-27T11:52:30.409177",
          "exception": false,
          "start_time": "2020-11-27T11:52:30.304341",
          "status": "completed"
        },
        "tags": [],
        "colab": {
          "base_uri": "https://localhost:8080/",
          "height": 206
        }
      },
      "outputs": [
        {
          "output_type": "execute_result",
          "data": {
            "text/plain": [
              "   Channel  Region  Fresh  Milk  Grocery  Frozen  Detergents_Paper  Delicassen\n",
              "0        2       3  12669  9656     7561     214              2674        1338\n",
              "1        2       3   7057  9810     9568    1762              3293        1776\n",
              "2        2       3   6353  8808     7684    2405              3516        7844\n",
              "3        1       3  13265  1196     4221    6404               507        1788\n",
              "4        2       3  22615  5410     7198    3915              1777        5185"
            ],
            "text/html": [
              "\n",
              "  <div id=\"df-d14b5bd7-b4a3-4db7-a780-80fe1a4e7d69\" class=\"colab-df-container\">\n",
              "    <div>\n",
              "<style scoped>\n",
              "    .dataframe tbody tr th:only-of-type {\n",
              "        vertical-align: middle;\n",
              "    }\n",
              "\n",
              "    .dataframe tbody tr th {\n",
              "        vertical-align: top;\n",
              "    }\n",
              "\n",
              "    .dataframe thead th {\n",
              "        text-align: right;\n",
              "    }\n",
              "</style>\n",
              "<table border=\"1\" class=\"dataframe\">\n",
              "  <thead>\n",
              "    <tr style=\"text-align: right;\">\n",
              "      <th></th>\n",
              "      <th>Channel</th>\n",
              "      <th>Region</th>\n",
              "      <th>Fresh</th>\n",
              "      <th>Milk</th>\n",
              "      <th>Grocery</th>\n",
              "      <th>Frozen</th>\n",
              "      <th>Detergents_Paper</th>\n",
              "      <th>Delicassen</th>\n",
              "    </tr>\n",
              "  </thead>\n",
              "  <tbody>\n",
              "    <tr>\n",
              "      <th>0</th>\n",
              "      <td>2</td>\n",
              "      <td>3</td>\n",
              "      <td>12669</td>\n",
              "      <td>9656</td>\n",
              "      <td>7561</td>\n",
              "      <td>214</td>\n",
              "      <td>2674</td>\n",
              "      <td>1338</td>\n",
              "    </tr>\n",
              "    <tr>\n",
              "      <th>1</th>\n",
              "      <td>2</td>\n",
              "      <td>3</td>\n",
              "      <td>7057</td>\n",
              "      <td>9810</td>\n",
              "      <td>9568</td>\n",
              "      <td>1762</td>\n",
              "      <td>3293</td>\n",
              "      <td>1776</td>\n",
              "    </tr>\n",
              "    <tr>\n",
              "      <th>2</th>\n",
              "      <td>2</td>\n",
              "      <td>3</td>\n",
              "      <td>6353</td>\n",
              "      <td>8808</td>\n",
              "      <td>7684</td>\n",
              "      <td>2405</td>\n",
              "      <td>3516</td>\n",
              "      <td>7844</td>\n",
              "    </tr>\n",
              "    <tr>\n",
              "      <th>3</th>\n",
              "      <td>1</td>\n",
              "      <td>3</td>\n",
              "      <td>13265</td>\n",
              "      <td>1196</td>\n",
              "      <td>4221</td>\n",
              "      <td>6404</td>\n",
              "      <td>507</td>\n",
              "      <td>1788</td>\n",
              "    </tr>\n",
              "    <tr>\n",
              "      <th>4</th>\n",
              "      <td>2</td>\n",
              "      <td>3</td>\n",
              "      <td>22615</td>\n",
              "      <td>5410</td>\n",
              "      <td>7198</td>\n",
              "      <td>3915</td>\n",
              "      <td>1777</td>\n",
              "      <td>5185</td>\n",
              "    </tr>\n",
              "  </tbody>\n",
              "</table>\n",
              "</div>\n",
              "    <div class=\"colab-df-buttons\">\n",
              "\n",
              "  <div class=\"colab-df-container\">\n",
              "    <button class=\"colab-df-convert\" onclick=\"convertToInteractive('df-d14b5bd7-b4a3-4db7-a780-80fe1a4e7d69')\"\n",
              "            title=\"Convert this dataframe to an interactive table.\"\n",
              "            style=\"display:none;\">\n",
              "\n",
              "  <svg xmlns=\"http://www.w3.org/2000/svg\" height=\"24px\" viewBox=\"0 -960 960 960\">\n",
              "    <path d=\"M120-120v-720h720v720H120Zm60-500h600v-160H180v160Zm220 220h160v-160H400v160Zm0 220h160v-160H400v160ZM180-400h160v-160H180v160Zm440 0h160v-160H620v160ZM180-180h160v-160H180v160Zm440 0h160v-160H620v160Z\"/>\n",
              "  </svg>\n",
              "    </button>\n",
              "\n",
              "  <style>\n",
              "    .colab-df-container {\n",
              "      display:flex;\n",
              "      gap: 12px;\n",
              "    }\n",
              "\n",
              "    .colab-df-convert {\n",
              "      background-color: #E8F0FE;\n",
              "      border: none;\n",
              "      border-radius: 50%;\n",
              "      cursor: pointer;\n",
              "      display: none;\n",
              "      fill: #1967D2;\n",
              "      height: 32px;\n",
              "      padding: 0 0 0 0;\n",
              "      width: 32px;\n",
              "    }\n",
              "\n",
              "    .colab-df-convert:hover {\n",
              "      background-color: #E2EBFA;\n",
              "      box-shadow: 0px 1px 2px rgba(60, 64, 67, 0.3), 0px 1px 3px 1px rgba(60, 64, 67, 0.15);\n",
              "      fill: #174EA6;\n",
              "    }\n",
              "\n",
              "    .colab-df-buttons div {\n",
              "      margin-bottom: 4px;\n",
              "    }\n",
              "\n",
              "    [theme=dark] .colab-df-convert {\n",
              "      background-color: #3B4455;\n",
              "      fill: #D2E3FC;\n",
              "    }\n",
              "\n",
              "    [theme=dark] .colab-df-convert:hover {\n",
              "      background-color: #434B5C;\n",
              "      box-shadow: 0px 1px 3px 1px rgba(0, 0, 0, 0.15);\n",
              "      filter: drop-shadow(0px 1px 2px rgba(0, 0, 0, 0.3));\n",
              "      fill: #FFFFFF;\n",
              "    }\n",
              "  </style>\n",
              "\n",
              "    <script>\n",
              "      const buttonEl =\n",
              "        document.querySelector('#df-d14b5bd7-b4a3-4db7-a780-80fe1a4e7d69 button.colab-df-convert');\n",
              "      buttonEl.style.display =\n",
              "        google.colab.kernel.accessAllowed ? 'block' : 'none';\n",
              "\n",
              "      async function convertToInteractive(key) {\n",
              "        const element = document.querySelector('#df-d14b5bd7-b4a3-4db7-a780-80fe1a4e7d69');\n",
              "        const dataTable =\n",
              "          await google.colab.kernel.invokeFunction('convertToInteractive',\n",
              "                                                    [key], {});\n",
              "        if (!dataTable) return;\n",
              "\n",
              "        const docLinkHtml = 'Like what you see? Visit the ' +\n",
              "          '<a target=\"_blank\" href=https://colab.research.google.com/notebooks/data_table.ipynb>data table notebook</a>'\n",
              "          + ' to learn more about interactive tables.';\n",
              "        element.innerHTML = '';\n",
              "        dataTable['output_type'] = 'display_data';\n",
              "        await google.colab.output.renderOutput(dataTable, element);\n",
              "        const docLink = document.createElement('div');\n",
              "        docLink.innerHTML = docLinkHtml;\n",
              "        element.appendChild(docLink);\n",
              "      }\n",
              "    </script>\n",
              "  </div>\n",
              "\n",
              "\n",
              "<div id=\"df-7ce06b77-ee8d-41c0-b4c7-226b6055ac67\">\n",
              "  <button class=\"colab-df-quickchart\" onclick=\"quickchart('df-7ce06b77-ee8d-41c0-b4c7-226b6055ac67')\"\n",
              "            title=\"Suggest charts\"\n",
              "            style=\"display:none;\">\n",
              "\n",
              "<svg xmlns=\"http://www.w3.org/2000/svg\" height=\"24px\"viewBox=\"0 0 24 24\"\n",
              "     width=\"24px\">\n",
              "    <g>\n",
              "        <path d=\"M19 3H5c-1.1 0-2 .9-2 2v14c0 1.1.9 2 2 2h14c1.1 0 2-.9 2-2V5c0-1.1-.9-2-2-2zM9 17H7v-7h2v7zm4 0h-2V7h2v10zm4 0h-2v-4h2v4z\"/>\n",
              "    </g>\n",
              "</svg>\n",
              "  </button>\n",
              "\n",
              "<style>\n",
              "  .colab-df-quickchart {\n",
              "      --bg-color: #E8F0FE;\n",
              "      --fill-color: #1967D2;\n",
              "      --hover-bg-color: #E2EBFA;\n",
              "      --hover-fill-color: #174EA6;\n",
              "      --disabled-fill-color: #AAA;\n",
              "      --disabled-bg-color: #DDD;\n",
              "  }\n",
              "\n",
              "  [theme=dark] .colab-df-quickchart {\n",
              "      --bg-color: #3B4455;\n",
              "      --fill-color: #D2E3FC;\n",
              "      --hover-bg-color: #434B5C;\n",
              "      --hover-fill-color: #FFFFFF;\n",
              "      --disabled-bg-color: #3B4455;\n",
              "      --disabled-fill-color: #666;\n",
              "  }\n",
              "\n",
              "  .colab-df-quickchart {\n",
              "    background-color: var(--bg-color);\n",
              "    border: none;\n",
              "    border-radius: 50%;\n",
              "    cursor: pointer;\n",
              "    display: none;\n",
              "    fill: var(--fill-color);\n",
              "    height: 32px;\n",
              "    padding: 0;\n",
              "    width: 32px;\n",
              "  }\n",
              "\n",
              "  .colab-df-quickchart:hover {\n",
              "    background-color: var(--hover-bg-color);\n",
              "    box-shadow: 0 1px 2px rgba(60, 64, 67, 0.3), 0 1px 3px 1px rgba(60, 64, 67, 0.15);\n",
              "    fill: var(--button-hover-fill-color);\n",
              "  }\n",
              "\n",
              "  .colab-df-quickchart-complete:disabled,\n",
              "  .colab-df-quickchart-complete:disabled:hover {\n",
              "    background-color: var(--disabled-bg-color);\n",
              "    fill: var(--disabled-fill-color);\n",
              "    box-shadow: none;\n",
              "  }\n",
              "\n",
              "  .colab-df-spinner {\n",
              "    border: 2px solid var(--fill-color);\n",
              "    border-color: transparent;\n",
              "    border-bottom-color: var(--fill-color);\n",
              "    animation:\n",
              "      spin 1s steps(1) infinite;\n",
              "  }\n",
              "\n",
              "  @keyframes spin {\n",
              "    0% {\n",
              "      border-color: transparent;\n",
              "      border-bottom-color: var(--fill-color);\n",
              "      border-left-color: var(--fill-color);\n",
              "    }\n",
              "    20% {\n",
              "      border-color: transparent;\n",
              "      border-left-color: var(--fill-color);\n",
              "      border-top-color: var(--fill-color);\n",
              "    }\n",
              "    30% {\n",
              "      border-color: transparent;\n",
              "      border-left-color: var(--fill-color);\n",
              "      border-top-color: var(--fill-color);\n",
              "      border-right-color: var(--fill-color);\n",
              "    }\n",
              "    40% {\n",
              "      border-color: transparent;\n",
              "      border-right-color: var(--fill-color);\n",
              "      border-top-color: var(--fill-color);\n",
              "    }\n",
              "    60% {\n",
              "      border-color: transparent;\n",
              "      border-right-color: var(--fill-color);\n",
              "    }\n",
              "    80% {\n",
              "      border-color: transparent;\n",
              "      border-right-color: var(--fill-color);\n",
              "      border-bottom-color: var(--fill-color);\n",
              "    }\n",
              "    90% {\n",
              "      border-color: transparent;\n",
              "      border-bottom-color: var(--fill-color);\n",
              "    }\n",
              "  }\n",
              "</style>\n",
              "\n",
              "  <script>\n",
              "    async function quickchart(key) {\n",
              "      const quickchartButtonEl =\n",
              "        document.querySelector('#' + key + ' button');\n",
              "      quickchartButtonEl.disabled = true;  // To prevent multiple clicks.\n",
              "      quickchartButtonEl.classList.add('colab-df-spinner');\n",
              "      try {\n",
              "        const charts = await google.colab.kernel.invokeFunction(\n",
              "            'suggestCharts', [key], {});\n",
              "      } catch (error) {\n",
              "        console.error('Error during call to suggestCharts:', error);\n",
              "      }\n",
              "      quickchartButtonEl.classList.remove('colab-df-spinner');\n",
              "      quickchartButtonEl.classList.add('colab-df-quickchart-complete');\n",
              "    }\n",
              "    (() => {\n",
              "      let quickchartButtonEl =\n",
              "        document.querySelector('#df-7ce06b77-ee8d-41c0-b4c7-226b6055ac67 button');\n",
              "      quickchartButtonEl.style.display =\n",
              "        google.colab.kernel.accessAllowed ? 'block' : 'none';\n",
              "    })();\n",
              "  </script>\n",
              "</div>\n",
              "\n",
              "    </div>\n",
              "  </div>\n"
            ],
            "application/vnd.google.colaboratory.intrinsic+json": {
              "type": "dataframe",
              "variable_name": "df",
              "summary": "{\n  \"name\": \"df\",\n  \"rows\": 440,\n  \"fields\": [\n    {\n      \"column\": \"Channel\",\n      \"properties\": {\n        \"dtype\": \"number\",\n        \"std\": 0,\n        \"min\": 1,\n        \"max\": 2,\n        \"num_unique_values\": 2,\n        \"samples\": [\n          1,\n          2\n        ],\n        \"semantic_type\": \"\",\n        \"description\": \"\"\n      }\n    },\n    {\n      \"column\": \"Region\",\n      \"properties\": {\n        \"dtype\": \"number\",\n        \"std\": 0,\n        \"min\": 1,\n        \"max\": 3,\n        \"num_unique_values\": 3,\n        \"samples\": [\n          3,\n          1\n        ],\n        \"semantic_type\": \"\",\n        \"description\": \"\"\n      }\n    },\n    {\n      \"column\": \"Fresh\",\n      \"properties\": {\n        \"dtype\": \"number\",\n        \"std\": 12647,\n        \"min\": 3,\n        \"max\": 112151,\n        \"num_unique_values\": 433,\n        \"samples\": [\n          21117,\n          20398\n        ],\n        \"semantic_type\": \"\",\n        \"description\": \"\"\n      }\n    },\n    {\n      \"column\": \"Milk\",\n      \"properties\": {\n        \"dtype\": \"number\",\n        \"std\": 7380,\n        \"min\": 55,\n        \"max\": 73498,\n        \"num_unique_values\": 421,\n        \"samples\": [\n          8384,\n          7184\n        ],\n        \"semantic_type\": \"\",\n        \"description\": \"\"\n      }\n    },\n    {\n      \"column\": \"Grocery\",\n      \"properties\": {\n        \"dtype\": \"number\",\n        \"std\": 9503,\n        \"min\": 3,\n        \"max\": 92780,\n        \"num_unique_values\": 430,\n        \"samples\": [\n          5160,\n          3\n        ],\n        \"semantic_type\": \"\",\n        \"description\": \"\"\n      }\n    },\n    {\n      \"column\": \"Frozen\",\n      \"properties\": {\n        \"dtype\": \"number\",\n        \"std\": 4854,\n        \"min\": 25,\n        \"max\": 60869,\n        \"num_unique_values\": 426,\n        \"samples\": [\n          269,\n          7530\n        ],\n        \"semantic_type\": \"\",\n        \"description\": \"\"\n      }\n    },\n    {\n      \"column\": \"Detergents_Paper\",\n      \"properties\": {\n        \"dtype\": \"number\",\n        \"std\": 4767,\n        \"min\": 3,\n        \"max\": 40827,\n        \"num_unique_values\": 417,\n        \"samples\": [\n          302,\n          6740\n        ],\n        \"semantic_type\": \"\",\n        \"description\": \"\"\n      }\n    },\n    {\n      \"column\": \"Delicassen\",\n      \"properties\": {\n        \"dtype\": \"number\",\n        \"std\": 2820,\n        \"min\": 3,\n        \"max\": 47943,\n        \"num_unique_values\": 403,\n        \"samples\": [\n          14472,\n          172\n        ],\n        \"semantic_type\": \"\",\n        \"description\": \"\"\n      }\n    }\n  ]\n}"
            }
          },
          "metadata": {},
          "execution_count": 5
        }
      ],
      "source": [
        "df = pd.read_csv(\"/content/Sample14 - Wholesale customers data.csv\")\n",
        "df.head()"
      ]
    },
    {
      "cell_type": "code",
      "execution_count": null,
      "metadata": {
        "execution": {
          "iopub.execute_input": "2020-11-27T11:52:30.487251Z",
          "iopub.status.busy": "2020-11-27T11:52:30.486184Z",
          "iopub.status.idle": "2020-11-27T11:52:30.490767Z",
          "shell.execute_reply": "2020-11-27T11:52:30.490289Z"
        },
        "id": "Fm-9dzdTRKpe",
        "outputId": "2b16418e-7b21-4cd1-bb27-4a5ff6508401",
        "papermill": {
          "duration": 0.052534,
          "end_time": "2020-11-27T11:52:30.490899",
          "exception": false,
          "start_time": "2020-11-27T11:52:30.438365",
          "status": "completed"
        },
        "tags": [],
        "colab": {
          "base_uri": "https://localhost:8080/",
          "height": 519
        }
      },
      "outputs": [
        {
          "output_type": "execute_result",
          "data": {
            "text/plain": [
              "     Channel  Region  Fresh   Milk  Grocery  Frozen  Detergents_Paper  \\\n",
              "425        1       3  11243   2408     2593   15348               108   \n",
              "426        1       3  13134   9347    14316    3141              5079   \n",
              "427        1       3  31012  16687     5429   15082               439   \n",
              "428        1       3   3047   5970     4910    2198               850   \n",
              "429        1       3   8607   1750     3580      47                84   \n",
              "430        1       3   3097   4230    16483     575               241   \n",
              "431        1       3   8533   5506     5160   13486              1377   \n",
              "432        1       3  21117   1162     4754     269              1328   \n",
              "433        1       3   1982   3218     1493    1541               356   \n",
              "434        1       3  16731   3922     7994     688              2371   \n",
              "435        1       3  29703  12051    16027   13135               182   \n",
              "436        1       3  39228   1431      764    4510                93   \n",
              "437        2       3  14531  15488    30243     437             14841   \n",
              "438        1       3  10290   1981     2232    1038               168   \n",
              "439        1       3   2787   1698     2510      65               477   \n",
              "\n",
              "     Delicassen  \n",
              "425        1886  \n",
              "426        1894  \n",
              "427        1163  \n",
              "428         317  \n",
              "429        2501  \n",
              "430        2080  \n",
              "431        1498  \n",
              "432         395  \n",
              "433        1449  \n",
              "434         838  \n",
              "435        2204  \n",
              "436        2346  \n",
              "437        1867  \n",
              "438        2125  \n",
              "439          52  "
            ],
            "text/html": [
              "\n",
              "  <div id=\"df-dc291a59-3bd9-4030-a2ab-330e0d1792dc\" class=\"colab-df-container\">\n",
              "    <div>\n",
              "<style scoped>\n",
              "    .dataframe tbody tr th:only-of-type {\n",
              "        vertical-align: middle;\n",
              "    }\n",
              "\n",
              "    .dataframe tbody tr th {\n",
              "        vertical-align: top;\n",
              "    }\n",
              "\n",
              "    .dataframe thead th {\n",
              "        text-align: right;\n",
              "    }\n",
              "</style>\n",
              "<table border=\"1\" class=\"dataframe\">\n",
              "  <thead>\n",
              "    <tr style=\"text-align: right;\">\n",
              "      <th></th>\n",
              "      <th>Channel</th>\n",
              "      <th>Region</th>\n",
              "      <th>Fresh</th>\n",
              "      <th>Milk</th>\n",
              "      <th>Grocery</th>\n",
              "      <th>Frozen</th>\n",
              "      <th>Detergents_Paper</th>\n",
              "      <th>Delicassen</th>\n",
              "    </tr>\n",
              "  </thead>\n",
              "  <tbody>\n",
              "    <tr>\n",
              "      <th>425</th>\n",
              "      <td>1</td>\n",
              "      <td>3</td>\n",
              "      <td>11243</td>\n",
              "      <td>2408</td>\n",
              "      <td>2593</td>\n",
              "      <td>15348</td>\n",
              "      <td>108</td>\n",
              "      <td>1886</td>\n",
              "    </tr>\n",
              "    <tr>\n",
              "      <th>426</th>\n",
              "      <td>1</td>\n",
              "      <td>3</td>\n",
              "      <td>13134</td>\n",
              "      <td>9347</td>\n",
              "      <td>14316</td>\n",
              "      <td>3141</td>\n",
              "      <td>5079</td>\n",
              "      <td>1894</td>\n",
              "    </tr>\n",
              "    <tr>\n",
              "      <th>427</th>\n",
              "      <td>1</td>\n",
              "      <td>3</td>\n",
              "      <td>31012</td>\n",
              "      <td>16687</td>\n",
              "      <td>5429</td>\n",
              "      <td>15082</td>\n",
              "      <td>439</td>\n",
              "      <td>1163</td>\n",
              "    </tr>\n",
              "    <tr>\n",
              "      <th>428</th>\n",
              "      <td>1</td>\n",
              "      <td>3</td>\n",
              "      <td>3047</td>\n",
              "      <td>5970</td>\n",
              "      <td>4910</td>\n",
              "      <td>2198</td>\n",
              "      <td>850</td>\n",
              "      <td>317</td>\n",
              "    </tr>\n",
              "    <tr>\n",
              "      <th>429</th>\n",
              "      <td>1</td>\n",
              "      <td>3</td>\n",
              "      <td>8607</td>\n",
              "      <td>1750</td>\n",
              "      <td>3580</td>\n",
              "      <td>47</td>\n",
              "      <td>84</td>\n",
              "      <td>2501</td>\n",
              "    </tr>\n",
              "    <tr>\n",
              "      <th>430</th>\n",
              "      <td>1</td>\n",
              "      <td>3</td>\n",
              "      <td>3097</td>\n",
              "      <td>4230</td>\n",
              "      <td>16483</td>\n",
              "      <td>575</td>\n",
              "      <td>241</td>\n",
              "      <td>2080</td>\n",
              "    </tr>\n",
              "    <tr>\n",
              "      <th>431</th>\n",
              "      <td>1</td>\n",
              "      <td>3</td>\n",
              "      <td>8533</td>\n",
              "      <td>5506</td>\n",
              "      <td>5160</td>\n",
              "      <td>13486</td>\n",
              "      <td>1377</td>\n",
              "      <td>1498</td>\n",
              "    </tr>\n",
              "    <tr>\n",
              "      <th>432</th>\n",
              "      <td>1</td>\n",
              "      <td>3</td>\n",
              "      <td>21117</td>\n",
              "      <td>1162</td>\n",
              "      <td>4754</td>\n",
              "      <td>269</td>\n",
              "      <td>1328</td>\n",
              "      <td>395</td>\n",
              "    </tr>\n",
              "    <tr>\n",
              "      <th>433</th>\n",
              "      <td>1</td>\n",
              "      <td>3</td>\n",
              "      <td>1982</td>\n",
              "      <td>3218</td>\n",
              "      <td>1493</td>\n",
              "      <td>1541</td>\n",
              "      <td>356</td>\n",
              "      <td>1449</td>\n",
              "    </tr>\n",
              "    <tr>\n",
              "      <th>434</th>\n",
              "      <td>1</td>\n",
              "      <td>3</td>\n",
              "      <td>16731</td>\n",
              "      <td>3922</td>\n",
              "      <td>7994</td>\n",
              "      <td>688</td>\n",
              "      <td>2371</td>\n",
              "      <td>838</td>\n",
              "    </tr>\n",
              "    <tr>\n",
              "      <th>435</th>\n",
              "      <td>1</td>\n",
              "      <td>3</td>\n",
              "      <td>29703</td>\n",
              "      <td>12051</td>\n",
              "      <td>16027</td>\n",
              "      <td>13135</td>\n",
              "      <td>182</td>\n",
              "      <td>2204</td>\n",
              "    </tr>\n",
              "    <tr>\n",
              "      <th>436</th>\n",
              "      <td>1</td>\n",
              "      <td>3</td>\n",
              "      <td>39228</td>\n",
              "      <td>1431</td>\n",
              "      <td>764</td>\n",
              "      <td>4510</td>\n",
              "      <td>93</td>\n",
              "      <td>2346</td>\n",
              "    </tr>\n",
              "    <tr>\n",
              "      <th>437</th>\n",
              "      <td>2</td>\n",
              "      <td>3</td>\n",
              "      <td>14531</td>\n",
              "      <td>15488</td>\n",
              "      <td>30243</td>\n",
              "      <td>437</td>\n",
              "      <td>14841</td>\n",
              "      <td>1867</td>\n",
              "    </tr>\n",
              "    <tr>\n",
              "      <th>438</th>\n",
              "      <td>1</td>\n",
              "      <td>3</td>\n",
              "      <td>10290</td>\n",
              "      <td>1981</td>\n",
              "      <td>2232</td>\n",
              "      <td>1038</td>\n",
              "      <td>168</td>\n",
              "      <td>2125</td>\n",
              "    </tr>\n",
              "    <tr>\n",
              "      <th>439</th>\n",
              "      <td>1</td>\n",
              "      <td>3</td>\n",
              "      <td>2787</td>\n",
              "      <td>1698</td>\n",
              "      <td>2510</td>\n",
              "      <td>65</td>\n",
              "      <td>477</td>\n",
              "      <td>52</td>\n",
              "    </tr>\n",
              "  </tbody>\n",
              "</table>\n",
              "</div>\n",
              "    <div class=\"colab-df-buttons\">\n",
              "\n",
              "  <div class=\"colab-df-container\">\n",
              "    <button class=\"colab-df-convert\" onclick=\"convertToInteractive('df-dc291a59-3bd9-4030-a2ab-330e0d1792dc')\"\n",
              "            title=\"Convert this dataframe to an interactive table.\"\n",
              "            style=\"display:none;\">\n",
              "\n",
              "  <svg xmlns=\"http://www.w3.org/2000/svg\" height=\"24px\" viewBox=\"0 -960 960 960\">\n",
              "    <path d=\"M120-120v-720h720v720H120Zm60-500h600v-160H180v160Zm220 220h160v-160H400v160Zm0 220h160v-160H400v160ZM180-400h160v-160H180v160Zm440 0h160v-160H620v160ZM180-180h160v-160H180v160Zm440 0h160v-160H620v160Z\"/>\n",
              "  </svg>\n",
              "    </button>\n",
              "\n",
              "  <style>\n",
              "    .colab-df-container {\n",
              "      display:flex;\n",
              "      gap: 12px;\n",
              "    }\n",
              "\n",
              "    .colab-df-convert {\n",
              "      background-color: #E8F0FE;\n",
              "      border: none;\n",
              "      border-radius: 50%;\n",
              "      cursor: pointer;\n",
              "      display: none;\n",
              "      fill: #1967D2;\n",
              "      height: 32px;\n",
              "      padding: 0 0 0 0;\n",
              "      width: 32px;\n",
              "    }\n",
              "\n",
              "    .colab-df-convert:hover {\n",
              "      background-color: #E2EBFA;\n",
              "      box-shadow: 0px 1px 2px rgba(60, 64, 67, 0.3), 0px 1px 3px 1px rgba(60, 64, 67, 0.15);\n",
              "      fill: #174EA6;\n",
              "    }\n",
              "\n",
              "    .colab-df-buttons div {\n",
              "      margin-bottom: 4px;\n",
              "    }\n",
              "\n",
              "    [theme=dark] .colab-df-convert {\n",
              "      background-color: #3B4455;\n",
              "      fill: #D2E3FC;\n",
              "    }\n",
              "\n",
              "    [theme=dark] .colab-df-convert:hover {\n",
              "      background-color: #434B5C;\n",
              "      box-shadow: 0px 1px 3px 1px rgba(0, 0, 0, 0.15);\n",
              "      filter: drop-shadow(0px 1px 2px rgba(0, 0, 0, 0.3));\n",
              "      fill: #FFFFFF;\n",
              "    }\n",
              "  </style>\n",
              "\n",
              "    <script>\n",
              "      const buttonEl =\n",
              "        document.querySelector('#df-dc291a59-3bd9-4030-a2ab-330e0d1792dc button.colab-df-convert');\n",
              "      buttonEl.style.display =\n",
              "        google.colab.kernel.accessAllowed ? 'block' : 'none';\n",
              "\n",
              "      async function convertToInteractive(key) {\n",
              "        const element = document.querySelector('#df-dc291a59-3bd9-4030-a2ab-330e0d1792dc');\n",
              "        const dataTable =\n",
              "          await google.colab.kernel.invokeFunction('convertToInteractive',\n",
              "                                                    [key], {});\n",
              "        if (!dataTable) return;\n",
              "\n",
              "        const docLinkHtml = 'Like what you see? Visit the ' +\n",
              "          '<a target=\"_blank\" href=https://colab.research.google.com/notebooks/data_table.ipynb>data table notebook</a>'\n",
              "          + ' to learn more about interactive tables.';\n",
              "        element.innerHTML = '';\n",
              "        dataTable['output_type'] = 'display_data';\n",
              "        await google.colab.output.renderOutput(dataTable, element);\n",
              "        const docLink = document.createElement('div');\n",
              "        docLink.innerHTML = docLinkHtml;\n",
              "        element.appendChild(docLink);\n",
              "      }\n",
              "    </script>\n",
              "  </div>\n",
              "\n",
              "\n",
              "<div id=\"df-a5453247-a95d-4173-b681-c46fa6c50bd1\">\n",
              "  <button class=\"colab-df-quickchart\" onclick=\"quickchart('df-a5453247-a95d-4173-b681-c46fa6c50bd1')\"\n",
              "            title=\"Suggest charts\"\n",
              "            style=\"display:none;\">\n",
              "\n",
              "<svg xmlns=\"http://www.w3.org/2000/svg\" height=\"24px\"viewBox=\"0 0 24 24\"\n",
              "     width=\"24px\">\n",
              "    <g>\n",
              "        <path d=\"M19 3H5c-1.1 0-2 .9-2 2v14c0 1.1.9 2 2 2h14c1.1 0 2-.9 2-2V5c0-1.1-.9-2-2-2zM9 17H7v-7h2v7zm4 0h-2V7h2v10zm4 0h-2v-4h2v4z\"/>\n",
              "    </g>\n",
              "</svg>\n",
              "  </button>\n",
              "\n",
              "<style>\n",
              "  .colab-df-quickchart {\n",
              "      --bg-color: #E8F0FE;\n",
              "      --fill-color: #1967D2;\n",
              "      --hover-bg-color: #E2EBFA;\n",
              "      --hover-fill-color: #174EA6;\n",
              "      --disabled-fill-color: #AAA;\n",
              "      --disabled-bg-color: #DDD;\n",
              "  }\n",
              "\n",
              "  [theme=dark] .colab-df-quickchart {\n",
              "      --bg-color: #3B4455;\n",
              "      --fill-color: #D2E3FC;\n",
              "      --hover-bg-color: #434B5C;\n",
              "      --hover-fill-color: #FFFFFF;\n",
              "      --disabled-bg-color: #3B4455;\n",
              "      --disabled-fill-color: #666;\n",
              "  }\n",
              "\n",
              "  .colab-df-quickchart {\n",
              "    background-color: var(--bg-color);\n",
              "    border: none;\n",
              "    border-radius: 50%;\n",
              "    cursor: pointer;\n",
              "    display: none;\n",
              "    fill: var(--fill-color);\n",
              "    height: 32px;\n",
              "    padding: 0;\n",
              "    width: 32px;\n",
              "  }\n",
              "\n",
              "  .colab-df-quickchart:hover {\n",
              "    background-color: var(--hover-bg-color);\n",
              "    box-shadow: 0 1px 2px rgba(60, 64, 67, 0.3), 0 1px 3px 1px rgba(60, 64, 67, 0.15);\n",
              "    fill: var(--button-hover-fill-color);\n",
              "  }\n",
              "\n",
              "  .colab-df-quickchart-complete:disabled,\n",
              "  .colab-df-quickchart-complete:disabled:hover {\n",
              "    background-color: var(--disabled-bg-color);\n",
              "    fill: var(--disabled-fill-color);\n",
              "    box-shadow: none;\n",
              "  }\n",
              "\n",
              "  .colab-df-spinner {\n",
              "    border: 2px solid var(--fill-color);\n",
              "    border-color: transparent;\n",
              "    border-bottom-color: var(--fill-color);\n",
              "    animation:\n",
              "      spin 1s steps(1) infinite;\n",
              "  }\n",
              "\n",
              "  @keyframes spin {\n",
              "    0% {\n",
              "      border-color: transparent;\n",
              "      border-bottom-color: var(--fill-color);\n",
              "      border-left-color: var(--fill-color);\n",
              "    }\n",
              "    20% {\n",
              "      border-color: transparent;\n",
              "      border-left-color: var(--fill-color);\n",
              "      border-top-color: var(--fill-color);\n",
              "    }\n",
              "    30% {\n",
              "      border-color: transparent;\n",
              "      border-left-color: var(--fill-color);\n",
              "      border-top-color: var(--fill-color);\n",
              "      border-right-color: var(--fill-color);\n",
              "    }\n",
              "    40% {\n",
              "      border-color: transparent;\n",
              "      border-right-color: var(--fill-color);\n",
              "      border-top-color: var(--fill-color);\n",
              "    }\n",
              "    60% {\n",
              "      border-color: transparent;\n",
              "      border-right-color: var(--fill-color);\n",
              "    }\n",
              "    80% {\n",
              "      border-color: transparent;\n",
              "      border-right-color: var(--fill-color);\n",
              "      border-bottom-color: var(--fill-color);\n",
              "    }\n",
              "    90% {\n",
              "      border-color: transparent;\n",
              "      border-bottom-color: var(--fill-color);\n",
              "    }\n",
              "  }\n",
              "</style>\n",
              "\n",
              "  <script>\n",
              "    async function quickchart(key) {\n",
              "      const quickchartButtonEl =\n",
              "        document.querySelector('#' + key + ' button');\n",
              "      quickchartButtonEl.disabled = true;  // To prevent multiple clicks.\n",
              "      quickchartButtonEl.classList.add('colab-df-spinner');\n",
              "      try {\n",
              "        const charts = await google.colab.kernel.invokeFunction(\n",
              "            'suggestCharts', [key], {});\n",
              "      } catch (error) {\n",
              "        console.error('Error during call to suggestCharts:', error);\n",
              "      }\n",
              "      quickchartButtonEl.classList.remove('colab-df-spinner');\n",
              "      quickchartButtonEl.classList.add('colab-df-quickchart-complete');\n",
              "    }\n",
              "    (() => {\n",
              "      let quickchartButtonEl =\n",
              "        document.querySelector('#df-a5453247-a95d-4173-b681-c46fa6c50bd1 button');\n",
              "      quickchartButtonEl.style.display =\n",
              "        google.colab.kernel.accessAllowed ? 'block' : 'none';\n",
              "    })();\n",
              "  </script>\n",
              "</div>\n",
              "\n",
              "    </div>\n",
              "  </div>\n"
            ],
            "application/vnd.google.colaboratory.intrinsic+json": {
              "type": "dataframe",
              "summary": "{\n  \"name\": \"df\",\n  \"rows\": 15,\n  \"fields\": [\n    {\n      \"column\": \"Channel\",\n      \"properties\": {\n        \"dtype\": \"number\",\n        \"std\": 0,\n        \"min\": 1,\n        \"max\": 2,\n        \"num_unique_values\": 2,\n        \"samples\": [\n          2,\n          1\n        ],\n        \"semantic_type\": \"\",\n        \"description\": \"\"\n      }\n    },\n    {\n      \"column\": \"Region\",\n      \"properties\": {\n        \"dtype\": \"number\",\n        \"std\": 0,\n        \"min\": 3,\n        \"max\": 3,\n        \"num_unique_values\": 1,\n        \"samples\": [\n          3\n        ],\n        \"semantic_type\": \"\",\n        \"description\": \"\"\n      }\n    },\n    {\n      \"column\": \"Fresh\",\n      \"properties\": {\n        \"dtype\": \"number\",\n        \"std\": 11399,\n        \"min\": 1982,\n        \"max\": 39228,\n        \"num_unique_values\": 15,\n        \"samples\": [\n          16731\n        ],\n        \"semantic_type\": \"\",\n        \"description\": \"\"\n      }\n    },\n    {\n      \"column\": \"Milk\",\n      \"properties\": {\n        \"dtype\": \"number\",\n        \"std\": 5187,\n        \"min\": 1162,\n        \"max\": 16687,\n        \"num_unique_values\": 15,\n        \"samples\": [\n          3922\n        ],\n        \"semantic_type\": \"\",\n        \"description\": \"\"\n      }\n    },\n    {\n      \"column\": \"Grocery\",\n      \"properties\": {\n        \"dtype\": \"number\",\n        \"std\": 8073,\n        \"min\": 764,\n        \"max\": 30243,\n        \"num_unique_values\": 15,\n        \"samples\": [\n          7994\n        ],\n        \"semantic_type\": \"\",\n        \"description\": \"\"\n      }\n    },\n    {\n      \"column\": \"Frozen\",\n      \"properties\": {\n        \"dtype\": \"number\",\n        \"std\": 6068,\n        \"min\": 47,\n        \"max\": 15348,\n        \"num_unique_values\": 15,\n        \"samples\": [\n          688\n        ],\n        \"semantic_type\": \"\",\n        \"description\": \"\"\n      }\n    },\n    {\n      \"column\": \"Detergents_Paper\",\n      \"properties\": {\n        \"dtype\": \"number\",\n        \"std\": 3821,\n        \"min\": 84,\n        \"max\": 14841,\n        \"num_unique_values\": 15,\n        \"samples\": [\n          2371\n        ],\n        \"semantic_type\": \"\",\n        \"description\": \"\"\n      }\n    },\n    {\n      \"column\": \"Delicassen\",\n      \"properties\": {\n        \"dtype\": \"number\",\n        \"std\": 786,\n        \"min\": 52,\n        \"max\": 2501,\n        \"num_unique_values\": 15,\n        \"samples\": [\n          838\n        ],\n        \"semantic_type\": \"\",\n        \"description\": \"\"\n      }\n    }\n  ]\n}"
            }
          },
          "metadata": {},
          "execution_count": 3
        }
      ],
      "source": [
        "df.tail(15)"
      ]
    },
    {
      "cell_type": "markdown",
      "metadata": {
        "id": "JjQnr4SPzaL5",
        "papermill": {
          "duration": 0.029003,
          "end_time": "2020-11-27T11:52:30.549371",
          "exception": false,
          "start_time": "2020-11-27T11:52:30.520368",
          "status": "completed"
        },
        "tags": []
      },
      "source": [
        "\n",
        "\n",
        "---\n",
        "\n"
      ]
    },
    {
      "cell_type": "markdown",
      "metadata": {
        "id": "vAmC369yTpMF",
        "papermill": {
          "duration": 0.029103,
          "end_time": "2020-11-27T11:52:30.608838",
          "exception": false,
          "start_time": "2020-11-27T11:52:30.579735",
          "status": "completed"
        },
        "tags": []
      },
      "source": [
        "## 3. Checking the types of data"
      ]
    },
    {
      "cell_type": "code",
      "execution_count": null,
      "metadata": {
        "execution": {
          "iopub.execute_input": "2020-11-27T11:52:30.734838Z",
          "iopub.status.busy": "2020-11-27T11:52:30.733833Z",
          "iopub.status.idle": "2020-11-27T11:52:30.737879Z",
          "shell.execute_reply": "2020-11-27T11:52:30.737377Z"
        },
        "id": "qPbKQ0noRptD",
        "outputId": "88105092-0686-4e60-bc42-c4234127a2d4",
        "papermill": {
          "duration": 0.040549,
          "end_time": "2020-11-27T11:52:30.738002",
          "exception": false,
          "start_time": "2020-11-27T11:52:30.697453",
          "status": "completed"
        },
        "tags": [],
        "colab": {
          "base_uri": "https://localhost:8080/"
        }
      },
      "outputs": [
        {
          "output_type": "execute_result",
          "data": {
            "text/plain": [
              "Channel             int64\n",
              "Region              int64\n",
              "Fresh               int64\n",
              "Milk                int64\n",
              "Grocery             int64\n",
              "Frozen              int64\n",
              "Detergents_Paper    int64\n",
              "Delicassen          int64\n",
              "dtype: object"
            ]
          },
          "metadata": {},
          "execution_count": 4
        }
      ],
      "source": [
        "df.dtypes"
      ]
    },
    {
      "cell_type": "markdown",
      "metadata": {
        "id": "beRJyQAezdX8",
        "papermill": {
          "duration": 0.029309,
          "end_time": "2020-11-27T11:52:30.797064",
          "exception": false,
          "start_time": "2020-11-27T11:52:30.767755",
          "status": "completed"
        },
        "tags": []
      },
      "source": [
        "\n",
        "\n",
        "---\n",
        "\n"
      ]
    },
    {
      "cell_type": "markdown",
      "metadata": {
        "id": "QoHuBhXxT5E9",
        "papermill": {
          "duration": 0.029086,
          "end_time": "2020-11-27T11:52:30.855758",
          "exception": false,
          "start_time": "2020-11-27T11:52:30.826672",
          "status": "completed"
        },
        "tags": []
      },
      "source": [
        "## 4. Dropping irrelevant columns"
      ]
    },
    {
      "cell_type": "markdown",
      "metadata": {
        "id": "_3cy877Mze4H",
        "papermill": {
          "duration": 0.029217,
          "end_time": "2020-11-27T11:52:30.914753",
          "exception": false,
          "start_time": "2020-11-27T11:52:30.885536",
          "status": "completed"
        },
        "tags": []
      },
      "source": [
        "This step is certainly needed in every EDA because sometimes there would be many columns that we never use in such cases dropping is the only solution. In this case, the columns such as channel doesn't make any sense to me so I just dropped for this instance."
      ]
    },
    {
      "cell_type": "code",
      "execution_count": null,
      "metadata": {
        "execution": {
          "iopub.execute_input": "2020-11-27T11:52:30.994216Z",
          "iopub.status.busy": "2020-11-27T11:52:30.993162Z",
          "iopub.status.idle": "2020-11-27T11:52:30.997526Z",
          "shell.execute_reply": "2020-11-27T11:52:30.997034Z"
        },
        "id": "uvSkK8swTr9H",
        "outputId": "8b285a7f-6154-4884-b115-820b64dd0775",
        "papermill": {
          "duration": 0.053265,
          "end_time": "2020-11-27T11:52:30.997635",
          "exception": false,
          "start_time": "2020-11-27T11:52:30.944370",
          "status": "completed"
        },
        "tags": [],
        "colab": {
          "base_uri": "https://localhost:8080/",
          "height": 206
        }
      },
      "outputs": [
        {
          "output_type": "execute_result",
          "data": {
            "text/plain": [
              "   Region  Fresh  Milk  Grocery  Frozen  Detergents_Paper  Delicassen\n",
              "0       3  12669  9656     7561     214              2674        1338\n",
              "1       3   7057  9810     9568    1762              3293        1776\n",
              "2       3   6353  8808     7684    2405              3516        7844\n",
              "3       3  13265  1196     4221    6404               507        1788\n",
              "4       3  22615  5410     7198    3915              1777        5185"
            ],
            "text/html": [
              "\n",
              "  <div id=\"df-efc24c33-2f6a-4d50-9f50-25ad3b4b77a2\" class=\"colab-df-container\">\n",
              "    <div>\n",
              "<style scoped>\n",
              "    .dataframe tbody tr th:only-of-type {\n",
              "        vertical-align: middle;\n",
              "    }\n",
              "\n",
              "    .dataframe tbody tr th {\n",
              "        vertical-align: top;\n",
              "    }\n",
              "\n",
              "    .dataframe thead th {\n",
              "        text-align: right;\n",
              "    }\n",
              "</style>\n",
              "<table border=\"1\" class=\"dataframe\">\n",
              "  <thead>\n",
              "    <tr style=\"text-align: right;\">\n",
              "      <th></th>\n",
              "      <th>Region</th>\n",
              "      <th>Fresh</th>\n",
              "      <th>Milk</th>\n",
              "      <th>Grocery</th>\n",
              "      <th>Frozen</th>\n",
              "      <th>Detergents_Paper</th>\n",
              "      <th>Delicassen</th>\n",
              "    </tr>\n",
              "  </thead>\n",
              "  <tbody>\n",
              "    <tr>\n",
              "      <th>0</th>\n",
              "      <td>3</td>\n",
              "      <td>12669</td>\n",
              "      <td>9656</td>\n",
              "      <td>7561</td>\n",
              "      <td>214</td>\n",
              "      <td>2674</td>\n",
              "      <td>1338</td>\n",
              "    </tr>\n",
              "    <tr>\n",
              "      <th>1</th>\n",
              "      <td>3</td>\n",
              "      <td>7057</td>\n",
              "      <td>9810</td>\n",
              "      <td>9568</td>\n",
              "      <td>1762</td>\n",
              "      <td>3293</td>\n",
              "      <td>1776</td>\n",
              "    </tr>\n",
              "    <tr>\n",
              "      <th>2</th>\n",
              "      <td>3</td>\n",
              "      <td>6353</td>\n",
              "      <td>8808</td>\n",
              "      <td>7684</td>\n",
              "      <td>2405</td>\n",
              "      <td>3516</td>\n",
              "      <td>7844</td>\n",
              "    </tr>\n",
              "    <tr>\n",
              "      <th>3</th>\n",
              "      <td>3</td>\n",
              "      <td>13265</td>\n",
              "      <td>1196</td>\n",
              "      <td>4221</td>\n",
              "      <td>6404</td>\n",
              "      <td>507</td>\n",
              "      <td>1788</td>\n",
              "    </tr>\n",
              "    <tr>\n",
              "      <th>4</th>\n",
              "      <td>3</td>\n",
              "      <td>22615</td>\n",
              "      <td>5410</td>\n",
              "      <td>7198</td>\n",
              "      <td>3915</td>\n",
              "      <td>1777</td>\n",
              "      <td>5185</td>\n",
              "    </tr>\n",
              "  </tbody>\n",
              "</table>\n",
              "</div>\n",
              "    <div class=\"colab-df-buttons\">\n",
              "\n",
              "  <div class=\"colab-df-container\">\n",
              "    <button class=\"colab-df-convert\" onclick=\"convertToInteractive('df-efc24c33-2f6a-4d50-9f50-25ad3b4b77a2')\"\n",
              "            title=\"Convert this dataframe to an interactive table.\"\n",
              "            style=\"display:none;\">\n",
              "\n",
              "  <svg xmlns=\"http://www.w3.org/2000/svg\" height=\"24px\" viewBox=\"0 -960 960 960\">\n",
              "    <path d=\"M120-120v-720h720v720H120Zm60-500h600v-160H180v160Zm220 220h160v-160H400v160Zm0 220h160v-160H400v160ZM180-400h160v-160H180v160Zm440 0h160v-160H620v160ZM180-180h160v-160H180v160Zm440 0h160v-160H620v160Z\"/>\n",
              "  </svg>\n",
              "    </button>\n",
              "\n",
              "  <style>\n",
              "    .colab-df-container {\n",
              "      display:flex;\n",
              "      gap: 12px;\n",
              "    }\n",
              "\n",
              "    .colab-df-convert {\n",
              "      background-color: #E8F0FE;\n",
              "      border: none;\n",
              "      border-radius: 50%;\n",
              "      cursor: pointer;\n",
              "      display: none;\n",
              "      fill: #1967D2;\n",
              "      height: 32px;\n",
              "      padding: 0 0 0 0;\n",
              "      width: 32px;\n",
              "    }\n",
              "\n",
              "    .colab-df-convert:hover {\n",
              "      background-color: #E2EBFA;\n",
              "      box-shadow: 0px 1px 2px rgba(60, 64, 67, 0.3), 0px 1px 3px 1px rgba(60, 64, 67, 0.15);\n",
              "      fill: #174EA6;\n",
              "    }\n",
              "\n",
              "    .colab-df-buttons div {\n",
              "      margin-bottom: 4px;\n",
              "    }\n",
              "\n",
              "    [theme=dark] .colab-df-convert {\n",
              "      background-color: #3B4455;\n",
              "      fill: #D2E3FC;\n",
              "    }\n",
              "\n",
              "    [theme=dark] .colab-df-convert:hover {\n",
              "      background-color: #434B5C;\n",
              "      box-shadow: 0px 1px 3px 1px rgba(0, 0, 0, 0.15);\n",
              "      filter: drop-shadow(0px 1px 2px rgba(0, 0, 0, 0.3));\n",
              "      fill: #FFFFFF;\n",
              "    }\n",
              "  </style>\n",
              "\n",
              "    <script>\n",
              "      const buttonEl =\n",
              "        document.querySelector('#df-efc24c33-2f6a-4d50-9f50-25ad3b4b77a2 button.colab-df-convert');\n",
              "      buttonEl.style.display =\n",
              "        google.colab.kernel.accessAllowed ? 'block' : 'none';\n",
              "\n",
              "      async function convertToInteractive(key) {\n",
              "        const element = document.querySelector('#df-efc24c33-2f6a-4d50-9f50-25ad3b4b77a2');\n",
              "        const dataTable =\n",
              "          await google.colab.kernel.invokeFunction('convertToInteractive',\n",
              "                                                    [key], {});\n",
              "        if (!dataTable) return;\n",
              "\n",
              "        const docLinkHtml = 'Like what you see? Visit the ' +\n",
              "          '<a target=\"_blank\" href=https://colab.research.google.com/notebooks/data_table.ipynb>data table notebook</a>'\n",
              "          + ' to learn more about interactive tables.';\n",
              "        element.innerHTML = '';\n",
              "        dataTable['output_type'] = 'display_data';\n",
              "        await google.colab.output.renderOutput(dataTable, element);\n",
              "        const docLink = document.createElement('div');\n",
              "        docLink.innerHTML = docLinkHtml;\n",
              "        element.appendChild(docLink);\n",
              "      }\n",
              "    </script>\n",
              "  </div>\n",
              "\n",
              "\n",
              "<div id=\"df-43b35f7c-872d-4191-ba3c-a9112c95c6c4\">\n",
              "  <button class=\"colab-df-quickchart\" onclick=\"quickchart('df-43b35f7c-872d-4191-ba3c-a9112c95c6c4')\"\n",
              "            title=\"Suggest charts\"\n",
              "            style=\"display:none;\">\n",
              "\n",
              "<svg xmlns=\"http://www.w3.org/2000/svg\" height=\"24px\"viewBox=\"0 0 24 24\"\n",
              "     width=\"24px\">\n",
              "    <g>\n",
              "        <path d=\"M19 3H5c-1.1 0-2 .9-2 2v14c0 1.1.9 2 2 2h14c1.1 0 2-.9 2-2V5c0-1.1-.9-2-2-2zM9 17H7v-7h2v7zm4 0h-2V7h2v10zm4 0h-2v-4h2v4z\"/>\n",
              "    </g>\n",
              "</svg>\n",
              "  </button>\n",
              "\n",
              "<style>\n",
              "  .colab-df-quickchart {\n",
              "      --bg-color: #E8F0FE;\n",
              "      --fill-color: #1967D2;\n",
              "      --hover-bg-color: #E2EBFA;\n",
              "      --hover-fill-color: #174EA6;\n",
              "      --disabled-fill-color: #AAA;\n",
              "      --disabled-bg-color: #DDD;\n",
              "  }\n",
              "\n",
              "  [theme=dark] .colab-df-quickchart {\n",
              "      --bg-color: #3B4455;\n",
              "      --fill-color: #D2E3FC;\n",
              "      --hover-bg-color: #434B5C;\n",
              "      --hover-fill-color: #FFFFFF;\n",
              "      --disabled-bg-color: #3B4455;\n",
              "      --disabled-fill-color: #666;\n",
              "  }\n",
              "\n",
              "  .colab-df-quickchart {\n",
              "    background-color: var(--bg-color);\n",
              "    border: none;\n",
              "    border-radius: 50%;\n",
              "    cursor: pointer;\n",
              "    display: none;\n",
              "    fill: var(--fill-color);\n",
              "    height: 32px;\n",
              "    padding: 0;\n",
              "    width: 32px;\n",
              "  }\n",
              "\n",
              "  .colab-df-quickchart:hover {\n",
              "    background-color: var(--hover-bg-color);\n",
              "    box-shadow: 0 1px 2px rgba(60, 64, 67, 0.3), 0 1px 3px 1px rgba(60, 64, 67, 0.15);\n",
              "    fill: var(--button-hover-fill-color);\n",
              "  }\n",
              "\n",
              "  .colab-df-quickchart-complete:disabled,\n",
              "  .colab-df-quickchart-complete:disabled:hover {\n",
              "    background-color: var(--disabled-bg-color);\n",
              "    fill: var(--disabled-fill-color);\n",
              "    box-shadow: none;\n",
              "  }\n",
              "\n",
              "  .colab-df-spinner {\n",
              "    border: 2px solid var(--fill-color);\n",
              "    border-color: transparent;\n",
              "    border-bottom-color: var(--fill-color);\n",
              "    animation:\n",
              "      spin 1s steps(1) infinite;\n",
              "  }\n",
              "\n",
              "  @keyframes spin {\n",
              "    0% {\n",
              "      border-color: transparent;\n",
              "      border-bottom-color: var(--fill-color);\n",
              "      border-left-color: var(--fill-color);\n",
              "    }\n",
              "    20% {\n",
              "      border-color: transparent;\n",
              "      border-left-color: var(--fill-color);\n",
              "      border-top-color: var(--fill-color);\n",
              "    }\n",
              "    30% {\n",
              "      border-color: transparent;\n",
              "      border-left-color: var(--fill-color);\n",
              "      border-top-color: var(--fill-color);\n",
              "      border-right-color: var(--fill-color);\n",
              "    }\n",
              "    40% {\n",
              "      border-color: transparent;\n",
              "      border-right-color: var(--fill-color);\n",
              "      border-top-color: var(--fill-color);\n",
              "    }\n",
              "    60% {\n",
              "      border-color: transparent;\n",
              "      border-right-color: var(--fill-color);\n",
              "    }\n",
              "    80% {\n",
              "      border-color: transparent;\n",
              "      border-right-color: var(--fill-color);\n",
              "      border-bottom-color: var(--fill-color);\n",
              "    }\n",
              "    90% {\n",
              "      border-color: transparent;\n",
              "      border-bottom-color: var(--fill-color);\n",
              "    }\n",
              "  }\n",
              "</style>\n",
              "\n",
              "  <script>\n",
              "    async function quickchart(key) {\n",
              "      const quickchartButtonEl =\n",
              "        document.querySelector('#' + key + ' button');\n",
              "      quickchartButtonEl.disabled = true;  // To prevent multiple clicks.\n",
              "      quickchartButtonEl.classList.add('colab-df-spinner');\n",
              "      try {\n",
              "        const charts = await google.colab.kernel.invokeFunction(\n",
              "            'suggestCharts', [key], {});\n",
              "      } catch (error) {\n",
              "        console.error('Error during call to suggestCharts:', error);\n",
              "      }\n",
              "      quickchartButtonEl.classList.remove('colab-df-spinner');\n",
              "      quickchartButtonEl.classList.add('colab-df-quickchart-complete');\n",
              "    }\n",
              "    (() => {\n",
              "      let quickchartButtonEl =\n",
              "        document.querySelector('#df-43b35f7c-872d-4191-ba3c-a9112c95c6c4 button');\n",
              "      quickchartButtonEl.style.display =\n",
              "        google.colab.kernel.accessAllowed ? 'block' : 'none';\n",
              "    })();\n",
              "  </script>\n",
              "</div>\n",
              "\n",
              "    </div>\n",
              "  </div>\n"
            ],
            "application/vnd.google.colaboratory.intrinsic+json": {
              "type": "dataframe",
              "variable_name": "df",
              "summary": "{\n  \"name\": \"df\",\n  \"rows\": 440,\n  \"fields\": [\n    {\n      \"column\": \"Region\",\n      \"properties\": {\n        \"dtype\": \"number\",\n        \"std\": 0,\n        \"min\": 1,\n        \"max\": 3,\n        \"num_unique_values\": 3,\n        \"samples\": [\n          3,\n          1,\n          2\n        ],\n        \"semantic_type\": \"\",\n        \"description\": \"\"\n      }\n    },\n    {\n      \"column\": \"Fresh\",\n      \"properties\": {\n        \"dtype\": \"number\",\n        \"std\": 12647,\n        \"min\": 3,\n        \"max\": 112151,\n        \"num_unique_values\": 433,\n        \"samples\": [\n          21117,\n          20398,\n          112151\n        ],\n        \"semantic_type\": \"\",\n        \"description\": \"\"\n      }\n    },\n    {\n      \"column\": \"Milk\",\n      \"properties\": {\n        \"dtype\": \"number\",\n        \"std\": 7380,\n        \"min\": 55,\n        \"max\": 73498,\n        \"num_unique_values\": 421,\n        \"samples\": [\n          8384,\n          7184,\n          7845\n        ],\n        \"semantic_type\": \"\",\n        \"description\": \"\"\n      }\n    },\n    {\n      \"column\": \"Grocery\",\n      \"properties\": {\n        \"dtype\": \"number\",\n        \"std\": 9503,\n        \"min\": 3,\n        \"max\": 92780,\n        \"num_unique_values\": 430,\n        \"samples\": [\n          5160,\n          3,\n          4945\n        ],\n        \"semantic_type\": \"\",\n        \"description\": \"\"\n      }\n    },\n    {\n      \"column\": \"Frozen\",\n      \"properties\": {\n        \"dtype\": \"number\",\n        \"std\": 4854,\n        \"min\": 25,\n        \"max\": 60869,\n        \"num_unique_values\": 426,\n        \"samples\": [\n          269,\n          7530,\n          1152\n        ],\n        \"semantic_type\": \"\",\n        \"description\": \"\"\n      }\n    },\n    {\n      \"column\": \"Detergents_Paper\",\n      \"properties\": {\n        \"dtype\": \"number\",\n        \"std\": 4767,\n        \"min\": 3,\n        \"max\": 40827,\n        \"num_unique_values\": 417,\n        \"samples\": [\n          302,\n          6740,\n          1328\n        ],\n        \"semantic_type\": \"\",\n        \"description\": \"\"\n      }\n    },\n    {\n      \"column\": \"Delicassen\",\n      \"properties\": {\n        \"dtype\": \"number\",\n        \"std\": 2820,\n        \"min\": 3,\n        \"max\": 47943,\n        \"num_unique_values\": 403,\n        \"samples\": [\n          14472,\n          172,\n          59\n        ],\n        \"semantic_type\": \"\",\n        \"description\": \"\"\n      }\n    }\n  ]\n}"
            }
          },
          "metadata": {},
          "execution_count": 6
        }
      ],
      "source": [
        "df = df.drop(['Channel'], axis=1)\n",
        "df.head(5)"
      ]
    },
    {
      "cell_type": "markdown",
      "source": [
        "axis=0 (default): If you specify axis=0 or axis='index', it means you want to drop labels from the rows of the DataFrame. This operation removes the specified rows from the DataFrame, effectively reducing the number of rows.\n",
        "\n",
        "axis=1 or axis='columns': If you specify axis=1 or axis='columns', it means you want to drop labels from the columns of the DataFrame. This operation removes the specified columns from the DataFrame, effectively reducing the number of columns."
      ],
      "metadata": {
        "id": "omX-OCCgpqy2"
      }
    },
    {
      "cell_type": "markdown",
      "metadata": {
        "id": "20OeQBpWz89v",
        "papermill": {
          "duration": 0.029929,
          "end_time": "2020-11-27T11:52:31.057925",
          "exception": false,
          "start_time": "2020-11-27T11:52:31.027996",
          "status": "completed"
        },
        "tags": []
      },
      "source": [
        "\n",
        "\n",
        "---\n",
        "\n"
      ]
    },
    {
      "cell_type": "markdown",
      "metadata": {
        "id": "caAownWdUZso",
        "papermill": {
          "duration": 0.030223,
          "end_time": "2020-11-27T11:52:31.118132",
          "exception": false,
          "start_time": "2020-11-27T11:52:31.087909",
          "status": "completed"
        },
        "tags": []
      },
      "source": [
        "## 5. Renaming the columns"
      ]
    },
    {
      "cell_type": "markdown",
      "metadata": {
        "id": "UABLiEcyz-2G",
        "papermill": {
          "duration": 0.030318,
          "end_time": "2020-11-27T11:52:31.178829",
          "exception": false,
          "start_time": "2020-11-27T11:52:31.148511",
          "status": "completed"
        },
        "tags": []
      },
      "source": [
        "In this instance, most of the column names are very confusing to read, so I just tweaked their column names. This is a good approach it improves the readability of the data set."
      ]
    },
    {
      "cell_type": "code",
      "execution_count": null,
      "metadata": {
        "execution": {
          "iopub.execute_input": "2020-11-27T11:52:31.245798Z",
          "iopub.status.busy": "2020-11-27T11:52:31.245033Z",
          "iopub.status.idle": "2020-11-27T11:52:31.260466Z",
          "shell.execute_reply": "2020-11-27T11:52:31.259923Z"
        },
        "id": "1wHW41whURub",
        "outputId": "421b7a29-85e1-491c-be10-0237599c6e7d",
        "papermill": {
          "duration": 0.05128,
          "end_time": "2020-11-27T11:52:31.260584",
          "exception": false,
          "start_time": "2020-11-27T11:52:31.209304",
          "status": "completed"
        },
        "tags": [],
        "colab": {
          "base_uri": "https://localhost:8080/",
          "height": 206
        }
      },
      "outputs": [
        {
          "output_type": "execute_result",
          "data": {
            "text/plain": [
              "   Region  Fresh  Milk  Grocery  Frozen  Detergents_Paper  delicatessen\n",
              "0       3  12669  9656     7561     214              2674          1338\n",
              "1       3   7057  9810     9568    1762              3293          1776\n",
              "2       3   6353  8808     7684    2405              3516          7844\n",
              "3       3  13265  1196     4221    6404               507          1788\n",
              "4       3  22615  5410     7198    3915              1777          5185"
            ],
            "text/html": [
              "\n",
              "  <div id=\"df-527bd229-6613-4a12-a2e1-f98fd01fcdd5\" class=\"colab-df-container\">\n",
              "    <div>\n",
              "<style scoped>\n",
              "    .dataframe tbody tr th:only-of-type {\n",
              "        vertical-align: middle;\n",
              "    }\n",
              "\n",
              "    .dataframe tbody tr th {\n",
              "        vertical-align: top;\n",
              "    }\n",
              "\n",
              "    .dataframe thead th {\n",
              "        text-align: right;\n",
              "    }\n",
              "</style>\n",
              "<table border=\"1\" class=\"dataframe\">\n",
              "  <thead>\n",
              "    <tr style=\"text-align: right;\">\n",
              "      <th></th>\n",
              "      <th>Region</th>\n",
              "      <th>Fresh</th>\n",
              "      <th>Milk</th>\n",
              "      <th>Grocery</th>\n",
              "      <th>Frozen</th>\n",
              "      <th>Detergents_Paper</th>\n",
              "      <th>delicatessen</th>\n",
              "    </tr>\n",
              "  </thead>\n",
              "  <tbody>\n",
              "    <tr>\n",
              "      <th>0</th>\n",
              "      <td>3</td>\n",
              "      <td>12669</td>\n",
              "      <td>9656</td>\n",
              "      <td>7561</td>\n",
              "      <td>214</td>\n",
              "      <td>2674</td>\n",
              "      <td>1338</td>\n",
              "    </tr>\n",
              "    <tr>\n",
              "      <th>1</th>\n",
              "      <td>3</td>\n",
              "      <td>7057</td>\n",
              "      <td>9810</td>\n",
              "      <td>9568</td>\n",
              "      <td>1762</td>\n",
              "      <td>3293</td>\n",
              "      <td>1776</td>\n",
              "    </tr>\n",
              "    <tr>\n",
              "      <th>2</th>\n",
              "      <td>3</td>\n",
              "      <td>6353</td>\n",
              "      <td>8808</td>\n",
              "      <td>7684</td>\n",
              "      <td>2405</td>\n",
              "      <td>3516</td>\n",
              "      <td>7844</td>\n",
              "    </tr>\n",
              "    <tr>\n",
              "      <th>3</th>\n",
              "      <td>3</td>\n",
              "      <td>13265</td>\n",
              "      <td>1196</td>\n",
              "      <td>4221</td>\n",
              "      <td>6404</td>\n",
              "      <td>507</td>\n",
              "      <td>1788</td>\n",
              "    </tr>\n",
              "    <tr>\n",
              "      <th>4</th>\n",
              "      <td>3</td>\n",
              "      <td>22615</td>\n",
              "      <td>5410</td>\n",
              "      <td>7198</td>\n",
              "      <td>3915</td>\n",
              "      <td>1777</td>\n",
              "      <td>5185</td>\n",
              "    </tr>\n",
              "  </tbody>\n",
              "</table>\n",
              "</div>\n",
              "    <div class=\"colab-df-buttons\">\n",
              "\n",
              "  <div class=\"colab-df-container\">\n",
              "    <button class=\"colab-df-convert\" onclick=\"convertToInteractive('df-527bd229-6613-4a12-a2e1-f98fd01fcdd5')\"\n",
              "            title=\"Convert this dataframe to an interactive table.\"\n",
              "            style=\"display:none;\">\n",
              "\n",
              "  <svg xmlns=\"http://www.w3.org/2000/svg\" height=\"24px\" viewBox=\"0 -960 960 960\">\n",
              "    <path d=\"M120-120v-720h720v720H120Zm60-500h600v-160H180v160Zm220 220h160v-160H400v160Zm0 220h160v-160H400v160ZM180-400h160v-160H180v160Zm440 0h160v-160H620v160ZM180-180h160v-160H180v160Zm440 0h160v-160H620v160Z\"/>\n",
              "  </svg>\n",
              "    </button>\n",
              "\n",
              "  <style>\n",
              "    .colab-df-container {\n",
              "      display:flex;\n",
              "      gap: 12px;\n",
              "    }\n",
              "\n",
              "    .colab-df-convert {\n",
              "      background-color: #E8F0FE;\n",
              "      border: none;\n",
              "      border-radius: 50%;\n",
              "      cursor: pointer;\n",
              "      display: none;\n",
              "      fill: #1967D2;\n",
              "      height: 32px;\n",
              "      padding: 0 0 0 0;\n",
              "      width: 32px;\n",
              "    }\n",
              "\n",
              "    .colab-df-convert:hover {\n",
              "      background-color: #E2EBFA;\n",
              "      box-shadow: 0px 1px 2px rgba(60, 64, 67, 0.3), 0px 1px 3px 1px rgba(60, 64, 67, 0.15);\n",
              "      fill: #174EA6;\n",
              "    }\n",
              "\n",
              "    .colab-df-buttons div {\n",
              "      margin-bottom: 4px;\n",
              "    }\n",
              "\n",
              "    [theme=dark] .colab-df-convert {\n",
              "      background-color: #3B4455;\n",
              "      fill: #D2E3FC;\n",
              "    }\n",
              "\n",
              "    [theme=dark] .colab-df-convert:hover {\n",
              "      background-color: #434B5C;\n",
              "      box-shadow: 0px 1px 3px 1px rgba(0, 0, 0, 0.15);\n",
              "      filter: drop-shadow(0px 1px 2px rgba(0, 0, 0, 0.3));\n",
              "      fill: #FFFFFF;\n",
              "    }\n",
              "  </style>\n",
              "\n",
              "    <script>\n",
              "      const buttonEl =\n",
              "        document.querySelector('#df-527bd229-6613-4a12-a2e1-f98fd01fcdd5 button.colab-df-convert');\n",
              "      buttonEl.style.display =\n",
              "        google.colab.kernel.accessAllowed ? 'block' : 'none';\n",
              "\n",
              "      async function convertToInteractive(key) {\n",
              "        const element = document.querySelector('#df-527bd229-6613-4a12-a2e1-f98fd01fcdd5');\n",
              "        const dataTable =\n",
              "          await google.colab.kernel.invokeFunction('convertToInteractive',\n",
              "                                                    [key], {});\n",
              "        if (!dataTable) return;\n",
              "\n",
              "        const docLinkHtml = 'Like what you see? Visit the ' +\n",
              "          '<a target=\"_blank\" href=https://colab.research.google.com/notebooks/data_table.ipynb>data table notebook</a>'\n",
              "          + ' to learn more about interactive tables.';\n",
              "        element.innerHTML = '';\n",
              "        dataTable['output_type'] = 'display_data';\n",
              "        await google.colab.output.renderOutput(dataTable, element);\n",
              "        const docLink = document.createElement('div');\n",
              "        docLink.innerHTML = docLinkHtml;\n",
              "        element.appendChild(docLink);\n",
              "      }\n",
              "    </script>\n",
              "  </div>\n",
              "\n",
              "\n",
              "<div id=\"df-533c62f4-3754-429d-a170-7c14f5801a8f\">\n",
              "  <button class=\"colab-df-quickchart\" onclick=\"quickchart('df-533c62f4-3754-429d-a170-7c14f5801a8f')\"\n",
              "            title=\"Suggest charts\"\n",
              "            style=\"display:none;\">\n",
              "\n",
              "<svg xmlns=\"http://www.w3.org/2000/svg\" height=\"24px\"viewBox=\"0 0 24 24\"\n",
              "     width=\"24px\">\n",
              "    <g>\n",
              "        <path d=\"M19 3H5c-1.1 0-2 .9-2 2v14c0 1.1.9 2 2 2h14c1.1 0 2-.9 2-2V5c0-1.1-.9-2-2-2zM9 17H7v-7h2v7zm4 0h-2V7h2v10zm4 0h-2v-4h2v4z\"/>\n",
              "    </g>\n",
              "</svg>\n",
              "  </button>\n",
              "\n",
              "<style>\n",
              "  .colab-df-quickchart {\n",
              "      --bg-color: #E8F0FE;\n",
              "      --fill-color: #1967D2;\n",
              "      --hover-bg-color: #E2EBFA;\n",
              "      --hover-fill-color: #174EA6;\n",
              "      --disabled-fill-color: #AAA;\n",
              "      --disabled-bg-color: #DDD;\n",
              "  }\n",
              "\n",
              "  [theme=dark] .colab-df-quickchart {\n",
              "      --bg-color: #3B4455;\n",
              "      --fill-color: #D2E3FC;\n",
              "      --hover-bg-color: #434B5C;\n",
              "      --hover-fill-color: #FFFFFF;\n",
              "      --disabled-bg-color: #3B4455;\n",
              "      --disabled-fill-color: #666;\n",
              "  }\n",
              "\n",
              "  .colab-df-quickchart {\n",
              "    background-color: var(--bg-color);\n",
              "    border: none;\n",
              "    border-radius: 50%;\n",
              "    cursor: pointer;\n",
              "    display: none;\n",
              "    fill: var(--fill-color);\n",
              "    height: 32px;\n",
              "    padding: 0;\n",
              "    width: 32px;\n",
              "  }\n",
              "\n",
              "  .colab-df-quickchart:hover {\n",
              "    background-color: var(--hover-bg-color);\n",
              "    box-shadow: 0 1px 2px rgba(60, 64, 67, 0.3), 0 1px 3px 1px rgba(60, 64, 67, 0.15);\n",
              "    fill: var(--button-hover-fill-color);\n",
              "  }\n",
              "\n",
              "  .colab-df-quickchart-complete:disabled,\n",
              "  .colab-df-quickchart-complete:disabled:hover {\n",
              "    background-color: var(--disabled-bg-color);\n",
              "    fill: var(--disabled-fill-color);\n",
              "    box-shadow: none;\n",
              "  }\n",
              "\n",
              "  .colab-df-spinner {\n",
              "    border: 2px solid var(--fill-color);\n",
              "    border-color: transparent;\n",
              "    border-bottom-color: var(--fill-color);\n",
              "    animation:\n",
              "      spin 1s steps(1) infinite;\n",
              "  }\n",
              "\n",
              "  @keyframes spin {\n",
              "    0% {\n",
              "      border-color: transparent;\n",
              "      border-bottom-color: var(--fill-color);\n",
              "      border-left-color: var(--fill-color);\n",
              "    }\n",
              "    20% {\n",
              "      border-color: transparent;\n",
              "      border-left-color: var(--fill-color);\n",
              "      border-top-color: var(--fill-color);\n",
              "    }\n",
              "    30% {\n",
              "      border-color: transparent;\n",
              "      border-left-color: var(--fill-color);\n",
              "      border-top-color: var(--fill-color);\n",
              "      border-right-color: var(--fill-color);\n",
              "    }\n",
              "    40% {\n",
              "      border-color: transparent;\n",
              "      border-right-color: var(--fill-color);\n",
              "      border-top-color: var(--fill-color);\n",
              "    }\n",
              "    60% {\n",
              "      border-color: transparent;\n",
              "      border-right-color: var(--fill-color);\n",
              "    }\n",
              "    80% {\n",
              "      border-color: transparent;\n",
              "      border-right-color: var(--fill-color);\n",
              "      border-bottom-color: var(--fill-color);\n",
              "    }\n",
              "    90% {\n",
              "      border-color: transparent;\n",
              "      border-bottom-color: var(--fill-color);\n",
              "    }\n",
              "  }\n",
              "</style>\n",
              "\n",
              "  <script>\n",
              "    async function quickchart(key) {\n",
              "      const quickchartButtonEl =\n",
              "        document.querySelector('#' + key + ' button');\n",
              "      quickchartButtonEl.disabled = true;  // To prevent multiple clicks.\n",
              "      quickchartButtonEl.classList.add('colab-df-spinner');\n",
              "      try {\n",
              "        const charts = await google.colab.kernel.invokeFunction(\n",
              "            'suggestCharts', [key], {});\n",
              "      } catch (error) {\n",
              "        console.error('Error during call to suggestCharts:', error);\n",
              "      }\n",
              "      quickchartButtonEl.classList.remove('colab-df-spinner');\n",
              "      quickchartButtonEl.classList.add('colab-df-quickchart-complete');\n",
              "    }\n",
              "    (() => {\n",
              "      let quickchartButtonEl =\n",
              "        document.querySelector('#df-533c62f4-3754-429d-a170-7c14f5801a8f button');\n",
              "      quickchartButtonEl.style.display =\n",
              "        google.colab.kernel.accessAllowed ? 'block' : 'none';\n",
              "    })();\n",
              "  </script>\n",
              "</div>\n",
              "\n",
              "    </div>\n",
              "  </div>\n"
            ],
            "application/vnd.google.colaboratory.intrinsic+json": {
              "type": "dataframe",
              "variable_name": "df",
              "summary": "{\n  \"name\": \"df\",\n  \"rows\": 440,\n  \"fields\": [\n    {\n      \"column\": \"Region\",\n      \"properties\": {\n        \"dtype\": \"number\",\n        \"std\": 0,\n        \"min\": 1,\n        \"max\": 3,\n        \"num_unique_values\": 3,\n        \"samples\": [\n          3,\n          1,\n          2\n        ],\n        \"semantic_type\": \"\",\n        \"description\": \"\"\n      }\n    },\n    {\n      \"column\": \"Fresh\",\n      \"properties\": {\n        \"dtype\": \"number\",\n        \"std\": 12647,\n        \"min\": 3,\n        \"max\": 112151,\n        \"num_unique_values\": 433,\n        \"samples\": [\n          21117,\n          20398,\n          112151\n        ],\n        \"semantic_type\": \"\",\n        \"description\": \"\"\n      }\n    },\n    {\n      \"column\": \"Milk\",\n      \"properties\": {\n        \"dtype\": \"number\",\n        \"std\": 7380,\n        \"min\": 55,\n        \"max\": 73498,\n        \"num_unique_values\": 421,\n        \"samples\": [\n          8384,\n          7184,\n          7845\n        ],\n        \"semantic_type\": \"\",\n        \"description\": \"\"\n      }\n    },\n    {\n      \"column\": \"Grocery\",\n      \"properties\": {\n        \"dtype\": \"number\",\n        \"std\": 9503,\n        \"min\": 3,\n        \"max\": 92780,\n        \"num_unique_values\": 430,\n        \"samples\": [\n          5160,\n          3,\n          4945\n        ],\n        \"semantic_type\": \"\",\n        \"description\": \"\"\n      }\n    },\n    {\n      \"column\": \"Frozen\",\n      \"properties\": {\n        \"dtype\": \"number\",\n        \"std\": 4854,\n        \"min\": 25,\n        \"max\": 60869,\n        \"num_unique_values\": 426,\n        \"samples\": [\n          269,\n          7530,\n          1152\n        ],\n        \"semantic_type\": \"\",\n        \"description\": \"\"\n      }\n    },\n    {\n      \"column\": \"Detergents_Paper\",\n      \"properties\": {\n        \"dtype\": \"number\",\n        \"std\": 4767,\n        \"min\": 3,\n        \"max\": 40827,\n        \"num_unique_values\": 417,\n        \"samples\": [\n          302,\n          6740,\n          1328\n        ],\n        \"semantic_type\": \"\",\n        \"description\": \"\"\n      }\n    },\n    {\n      \"column\": \"delicatessen\",\n      \"properties\": {\n        \"dtype\": \"number\",\n        \"std\": 2820,\n        \"min\": 3,\n        \"max\": 47943,\n        \"num_unique_values\": 403,\n        \"samples\": [\n          14472,\n          172,\n          59\n        ],\n        \"semantic_type\": \"\",\n        \"description\": \"\"\n      }\n    }\n  ]\n}"
            }
          },
          "metadata": {},
          "execution_count": 7
        }
      ],
      "source": [
        "df = df.rename(columns={\"Delicassen\": \"delicatessen\" })\n",
        "df.head(5)"
      ]
    },
    {
      "cell_type": "markdown",
      "metadata": {
        "id": "5tcGiOmV0afN",
        "papermill": {
          "duration": 0.030645,
          "end_time": "2020-11-27T11:52:31.323355",
          "exception": false,
          "start_time": "2020-11-27T11:52:31.292710",
          "status": "completed"
        },
        "tags": []
      },
      "source": [
        "\n",
        "\n",
        "---\n",
        "\n"
      ]
    },
    {
      "cell_type": "markdown",
      "metadata": {
        "id": "uiW7x_O4WIDX",
        "papermill": {
          "duration": 0.030638,
          "end_time": "2020-11-27T11:52:31.385353",
          "exception": false,
          "start_time": "2020-11-27T11:52:31.354715",
          "status": "completed"
        },
        "tags": []
      },
      "source": [
        "## 6. Dropping the duplicate rows"
      ]
    },
    {
      "cell_type": "markdown",
      "metadata": {
        "id": "9LpR5NW70hXm",
        "papermill": {
          "duration": 0.030478,
          "end_time": "2020-11-27T11:52:31.446542",
          "exception": false,
          "start_time": "2020-11-27T11:52:31.416064",
          "status": "completed"
        },
        "tags": []
      },
      "source": [
        "This is often a handy thing to do because a huge data set as in this case contains more than 440 rows often have some duplicate data which might be disturbing, so here I remove all the duplicate value from the data-set."
      ]
    },
    {
      "cell_type": "code",
      "execution_count": null,
      "metadata": {
        "execution": {
          "iopub.execute_input": "2020-11-27T11:52:31.512940Z",
          "iopub.status.busy": "2020-11-27T11:52:31.512151Z",
          "iopub.status.idle": "2020-11-27T11:52:31.516507Z",
          "shell.execute_reply": "2020-11-27T11:52:31.515912Z"
        },
        "id": "1nBN_BCDWSmv",
        "outputId": "f606a9cd-7c63-4533-842e-f37934b0d00c",
        "papermill": {
          "duration": 0.039307,
          "end_time": "2020-11-27T11:52:31.516612",
          "exception": false,
          "start_time": "2020-11-27T11:52:31.477305",
          "status": "completed"
        },
        "tags": [],
        "colab": {
          "base_uri": "https://localhost:8080/"
        }
      },
      "outputs": [
        {
          "output_type": "execute_result",
          "data": {
            "text/plain": [
              "(440, 7)"
            ]
          },
          "metadata": {},
          "execution_count": 8
        }
      ],
      "source": [
        "df.shape"
      ]
    },
    {
      "cell_type": "code",
      "execution_count": null,
      "metadata": {
        "execution": {
          "iopub.execute_input": "2020-11-27T11:52:31.587137Z",
          "iopub.status.busy": "2020-11-27T11:52:31.586114Z",
          "iopub.status.idle": "2020-11-27T11:52:31.602151Z",
          "shell.execute_reply": "2020-11-27T11:52:31.601648Z"
        },
        "id": "yB8t6o0wH7If",
        "outputId": "1e1147ff-ac52-444f-b8c2-f79d2cf9085a",
        "papermill": {
          "duration": 0.053706,
          "end_time": "2020-11-27T11:52:31.602271",
          "exception": false,
          "start_time": "2020-11-27T11:52:31.548565",
          "status": "completed"
        },
        "tags": [],
        "colab": {
          "base_uri": "https://localhost:8080/"
        }
      },
      "outputs": [
        {
          "output_type": "stream",
          "name": "stdout",
          "text": [
            "number of duplicate rows:  (0, 7)\n"
          ]
        }
      ],
      "source": [
        "duplicate_rows_df = df[df.duplicated()]\n",
        "print(\"number of duplicate rows: \", duplicate_rows_df.shape)"
      ]
    },
    {
      "cell_type": "code",
      "execution_count": null,
      "metadata": {
        "execution": {
          "iopub.execute_input": "2020-11-27T11:52:31.735456Z",
          "iopub.status.busy": "2020-11-27T11:52:31.734753Z",
          "iopub.status.idle": "2020-11-27T11:52:31.741387Z",
          "shell.execute_reply": "2020-11-27T11:52:31.740842Z"
        },
        "id": "kuobmetTV820",
        "outputId": "b81be48e-d7ba-4b78-cfff-2f4821a66065",
        "papermill": {
          "duration": 0.045289,
          "end_time": "2020-11-27T11:52:31.741503",
          "exception": false,
          "start_time": "2020-11-27T11:52:31.696214",
          "status": "completed"
        },
        "tags": [],
        "colab": {
          "base_uri": "https://localhost:8080/"
        }
      },
      "outputs": [
        {
          "output_type": "execute_result",
          "data": {
            "text/plain": [
              "Region              440\n",
              "Fresh               440\n",
              "Milk                440\n",
              "Grocery             440\n",
              "Frozen              440\n",
              "Detergents_Paper    440\n",
              "delicatessen        440\n",
              "dtype: int64"
            ]
          },
          "metadata": {},
          "execution_count": 10
        }
      ],
      "source": [
        "df.count()      # Used to count the number of rows"
      ]
    },
    {
      "cell_type": "code",
      "execution_count": null,
      "metadata": {
        "execution": {
          "iopub.execute_input": "2020-11-27T11:52:31.876439Z",
          "iopub.status.busy": "2020-11-27T11:52:31.875501Z",
          "iopub.status.idle": "2020-11-27T11:52:31.896377Z",
          "shell.execute_reply": "2020-11-27T11:52:31.895850Z"
        },
        "id": "OiOsEF6WVTSj",
        "outputId": "19a4bea8-32b2-49a3-870a-4188b1c2507f",
        "papermill": {
          "duration": 0.058104,
          "end_time": "2020-11-27T11:52:31.896493",
          "exception": false,
          "start_time": "2020-11-27T11:52:31.838389",
          "status": "completed"
        },
        "tags": [],
        "colab": {
          "base_uri": "https://localhost:8080/",
          "height": 206
        }
      },
      "outputs": [
        {
          "output_type": "execute_result",
          "data": {
            "text/plain": [
              "   Region  Fresh  Milk  Grocery  Frozen  Detergents_Paper  delicatessen\n",
              "0       3  12669  9656     7561     214              2674          1338\n",
              "1       3   7057  9810     9568    1762              3293          1776\n",
              "2       3   6353  8808     7684    2405              3516          7844\n",
              "3       3  13265  1196     4221    6404               507          1788\n",
              "4       3  22615  5410     7198    3915              1777          5185"
            ],
            "text/html": [
              "\n",
              "  <div id=\"df-edc570a4-1f26-40c2-8453-f75e08e242a1\" class=\"colab-df-container\">\n",
              "    <div>\n",
              "<style scoped>\n",
              "    .dataframe tbody tr th:only-of-type {\n",
              "        vertical-align: middle;\n",
              "    }\n",
              "\n",
              "    .dataframe tbody tr th {\n",
              "        vertical-align: top;\n",
              "    }\n",
              "\n",
              "    .dataframe thead th {\n",
              "        text-align: right;\n",
              "    }\n",
              "</style>\n",
              "<table border=\"1\" class=\"dataframe\">\n",
              "  <thead>\n",
              "    <tr style=\"text-align: right;\">\n",
              "      <th></th>\n",
              "      <th>Region</th>\n",
              "      <th>Fresh</th>\n",
              "      <th>Milk</th>\n",
              "      <th>Grocery</th>\n",
              "      <th>Frozen</th>\n",
              "      <th>Detergents_Paper</th>\n",
              "      <th>delicatessen</th>\n",
              "    </tr>\n",
              "  </thead>\n",
              "  <tbody>\n",
              "    <tr>\n",
              "      <th>0</th>\n",
              "      <td>3</td>\n",
              "      <td>12669</td>\n",
              "      <td>9656</td>\n",
              "      <td>7561</td>\n",
              "      <td>214</td>\n",
              "      <td>2674</td>\n",
              "      <td>1338</td>\n",
              "    </tr>\n",
              "    <tr>\n",
              "      <th>1</th>\n",
              "      <td>3</td>\n",
              "      <td>7057</td>\n",
              "      <td>9810</td>\n",
              "      <td>9568</td>\n",
              "      <td>1762</td>\n",
              "      <td>3293</td>\n",
              "      <td>1776</td>\n",
              "    </tr>\n",
              "    <tr>\n",
              "      <th>2</th>\n",
              "      <td>3</td>\n",
              "      <td>6353</td>\n",
              "      <td>8808</td>\n",
              "      <td>7684</td>\n",
              "      <td>2405</td>\n",
              "      <td>3516</td>\n",
              "      <td>7844</td>\n",
              "    </tr>\n",
              "    <tr>\n",
              "      <th>3</th>\n",
              "      <td>3</td>\n",
              "      <td>13265</td>\n",
              "      <td>1196</td>\n",
              "      <td>4221</td>\n",
              "      <td>6404</td>\n",
              "      <td>507</td>\n",
              "      <td>1788</td>\n",
              "    </tr>\n",
              "    <tr>\n",
              "      <th>4</th>\n",
              "      <td>3</td>\n",
              "      <td>22615</td>\n",
              "      <td>5410</td>\n",
              "      <td>7198</td>\n",
              "      <td>3915</td>\n",
              "      <td>1777</td>\n",
              "      <td>5185</td>\n",
              "    </tr>\n",
              "  </tbody>\n",
              "</table>\n",
              "</div>\n",
              "    <div class=\"colab-df-buttons\">\n",
              "\n",
              "  <div class=\"colab-df-container\">\n",
              "    <button class=\"colab-df-convert\" onclick=\"convertToInteractive('df-edc570a4-1f26-40c2-8453-f75e08e242a1')\"\n",
              "            title=\"Convert this dataframe to an interactive table.\"\n",
              "            style=\"display:none;\">\n",
              "\n",
              "  <svg xmlns=\"http://www.w3.org/2000/svg\" height=\"24px\" viewBox=\"0 -960 960 960\">\n",
              "    <path d=\"M120-120v-720h720v720H120Zm60-500h600v-160H180v160Zm220 220h160v-160H400v160Zm0 220h160v-160H400v160ZM180-400h160v-160H180v160Zm440 0h160v-160H620v160ZM180-180h160v-160H180v160Zm440 0h160v-160H620v160Z\"/>\n",
              "  </svg>\n",
              "    </button>\n",
              "\n",
              "  <style>\n",
              "    .colab-df-container {\n",
              "      display:flex;\n",
              "      gap: 12px;\n",
              "    }\n",
              "\n",
              "    .colab-df-convert {\n",
              "      background-color: #E8F0FE;\n",
              "      border: none;\n",
              "      border-radius: 50%;\n",
              "      cursor: pointer;\n",
              "      display: none;\n",
              "      fill: #1967D2;\n",
              "      height: 32px;\n",
              "      padding: 0 0 0 0;\n",
              "      width: 32px;\n",
              "    }\n",
              "\n",
              "    .colab-df-convert:hover {\n",
              "      background-color: #E2EBFA;\n",
              "      box-shadow: 0px 1px 2px rgba(60, 64, 67, 0.3), 0px 1px 3px 1px rgba(60, 64, 67, 0.15);\n",
              "      fill: #174EA6;\n",
              "    }\n",
              "\n",
              "    .colab-df-buttons div {\n",
              "      margin-bottom: 4px;\n",
              "    }\n",
              "\n",
              "    [theme=dark] .colab-df-convert {\n",
              "      background-color: #3B4455;\n",
              "      fill: #D2E3FC;\n",
              "    }\n",
              "\n",
              "    [theme=dark] .colab-df-convert:hover {\n",
              "      background-color: #434B5C;\n",
              "      box-shadow: 0px 1px 3px 1px rgba(0, 0, 0, 0.15);\n",
              "      filter: drop-shadow(0px 1px 2px rgba(0, 0, 0, 0.3));\n",
              "      fill: #FFFFFF;\n",
              "    }\n",
              "  </style>\n",
              "\n",
              "    <script>\n",
              "      const buttonEl =\n",
              "        document.querySelector('#df-edc570a4-1f26-40c2-8453-f75e08e242a1 button.colab-df-convert');\n",
              "      buttonEl.style.display =\n",
              "        google.colab.kernel.accessAllowed ? 'block' : 'none';\n",
              "\n",
              "      async function convertToInteractive(key) {\n",
              "        const element = document.querySelector('#df-edc570a4-1f26-40c2-8453-f75e08e242a1');\n",
              "        const dataTable =\n",
              "          await google.colab.kernel.invokeFunction('convertToInteractive',\n",
              "                                                    [key], {});\n",
              "        if (!dataTable) return;\n",
              "\n",
              "        const docLinkHtml = 'Like what you see? Visit the ' +\n",
              "          '<a target=\"_blank\" href=https://colab.research.google.com/notebooks/data_table.ipynb>data table notebook</a>'\n",
              "          + ' to learn more about interactive tables.';\n",
              "        element.innerHTML = '';\n",
              "        dataTable['output_type'] = 'display_data';\n",
              "        await google.colab.output.renderOutput(dataTable, element);\n",
              "        const docLink = document.createElement('div');\n",
              "        docLink.innerHTML = docLinkHtml;\n",
              "        element.appendChild(docLink);\n",
              "      }\n",
              "    </script>\n",
              "  </div>\n",
              "\n",
              "\n",
              "<div id=\"df-68b5b2e0-0754-4ce5-bf4d-b5736b73d8f1\">\n",
              "  <button class=\"colab-df-quickchart\" onclick=\"quickchart('df-68b5b2e0-0754-4ce5-bf4d-b5736b73d8f1')\"\n",
              "            title=\"Suggest charts\"\n",
              "            style=\"display:none;\">\n",
              "\n",
              "<svg xmlns=\"http://www.w3.org/2000/svg\" height=\"24px\"viewBox=\"0 0 24 24\"\n",
              "     width=\"24px\">\n",
              "    <g>\n",
              "        <path d=\"M19 3H5c-1.1 0-2 .9-2 2v14c0 1.1.9 2 2 2h14c1.1 0 2-.9 2-2V5c0-1.1-.9-2-2-2zM9 17H7v-7h2v7zm4 0h-2V7h2v10zm4 0h-2v-4h2v4z\"/>\n",
              "    </g>\n",
              "</svg>\n",
              "  </button>\n",
              "\n",
              "<style>\n",
              "  .colab-df-quickchart {\n",
              "      --bg-color: #E8F0FE;\n",
              "      --fill-color: #1967D2;\n",
              "      --hover-bg-color: #E2EBFA;\n",
              "      --hover-fill-color: #174EA6;\n",
              "      --disabled-fill-color: #AAA;\n",
              "      --disabled-bg-color: #DDD;\n",
              "  }\n",
              "\n",
              "  [theme=dark] .colab-df-quickchart {\n",
              "      --bg-color: #3B4455;\n",
              "      --fill-color: #D2E3FC;\n",
              "      --hover-bg-color: #434B5C;\n",
              "      --hover-fill-color: #FFFFFF;\n",
              "      --disabled-bg-color: #3B4455;\n",
              "      --disabled-fill-color: #666;\n",
              "  }\n",
              "\n",
              "  .colab-df-quickchart {\n",
              "    background-color: var(--bg-color);\n",
              "    border: none;\n",
              "    border-radius: 50%;\n",
              "    cursor: pointer;\n",
              "    display: none;\n",
              "    fill: var(--fill-color);\n",
              "    height: 32px;\n",
              "    padding: 0;\n",
              "    width: 32px;\n",
              "  }\n",
              "\n",
              "  .colab-df-quickchart:hover {\n",
              "    background-color: var(--hover-bg-color);\n",
              "    box-shadow: 0 1px 2px rgba(60, 64, 67, 0.3), 0 1px 3px 1px rgba(60, 64, 67, 0.15);\n",
              "    fill: var(--button-hover-fill-color);\n",
              "  }\n",
              "\n",
              "  .colab-df-quickchart-complete:disabled,\n",
              "  .colab-df-quickchart-complete:disabled:hover {\n",
              "    background-color: var(--disabled-bg-color);\n",
              "    fill: var(--disabled-fill-color);\n",
              "    box-shadow: none;\n",
              "  }\n",
              "\n",
              "  .colab-df-spinner {\n",
              "    border: 2px solid var(--fill-color);\n",
              "    border-color: transparent;\n",
              "    border-bottom-color: var(--fill-color);\n",
              "    animation:\n",
              "      spin 1s steps(1) infinite;\n",
              "  }\n",
              "\n",
              "  @keyframes spin {\n",
              "    0% {\n",
              "      border-color: transparent;\n",
              "      border-bottom-color: var(--fill-color);\n",
              "      border-left-color: var(--fill-color);\n",
              "    }\n",
              "    20% {\n",
              "      border-color: transparent;\n",
              "      border-left-color: var(--fill-color);\n",
              "      border-top-color: var(--fill-color);\n",
              "    }\n",
              "    30% {\n",
              "      border-color: transparent;\n",
              "      border-left-color: var(--fill-color);\n",
              "      border-top-color: var(--fill-color);\n",
              "      border-right-color: var(--fill-color);\n",
              "    }\n",
              "    40% {\n",
              "      border-color: transparent;\n",
              "      border-right-color: var(--fill-color);\n",
              "      border-top-color: var(--fill-color);\n",
              "    }\n",
              "    60% {\n",
              "      border-color: transparent;\n",
              "      border-right-color: var(--fill-color);\n",
              "    }\n",
              "    80% {\n",
              "      border-color: transparent;\n",
              "      border-right-color: var(--fill-color);\n",
              "      border-bottom-color: var(--fill-color);\n",
              "    }\n",
              "    90% {\n",
              "      border-color: transparent;\n",
              "      border-bottom-color: var(--fill-color);\n",
              "    }\n",
              "  }\n",
              "</style>\n",
              "\n",
              "  <script>\n",
              "    async function quickchart(key) {\n",
              "      const quickchartButtonEl =\n",
              "        document.querySelector('#' + key + ' button');\n",
              "      quickchartButtonEl.disabled = true;  // To prevent multiple clicks.\n",
              "      quickchartButtonEl.classList.add('colab-df-spinner');\n",
              "      try {\n",
              "        const charts = await google.colab.kernel.invokeFunction(\n",
              "            'suggestCharts', [key], {});\n",
              "      } catch (error) {\n",
              "        console.error('Error during call to suggestCharts:', error);\n",
              "      }\n",
              "      quickchartButtonEl.classList.remove('colab-df-spinner');\n",
              "      quickchartButtonEl.classList.add('colab-df-quickchart-complete');\n",
              "    }\n",
              "    (() => {\n",
              "      let quickchartButtonEl =\n",
              "        document.querySelector('#df-68b5b2e0-0754-4ce5-bf4d-b5736b73d8f1 button');\n",
              "      quickchartButtonEl.style.display =\n",
              "        google.colab.kernel.accessAllowed ? 'block' : 'none';\n",
              "    })();\n",
              "  </script>\n",
              "</div>\n",
              "\n",
              "    </div>\n",
              "  </div>\n"
            ],
            "application/vnd.google.colaboratory.intrinsic+json": {
              "type": "dataframe",
              "variable_name": "df",
              "summary": "{\n  \"name\": \"df\",\n  \"rows\": 440,\n  \"fields\": [\n    {\n      \"column\": \"Region\",\n      \"properties\": {\n        \"dtype\": \"number\",\n        \"std\": 0,\n        \"min\": 1,\n        \"max\": 3,\n        \"num_unique_values\": 3,\n        \"samples\": [\n          3,\n          1,\n          2\n        ],\n        \"semantic_type\": \"\",\n        \"description\": \"\"\n      }\n    },\n    {\n      \"column\": \"Fresh\",\n      \"properties\": {\n        \"dtype\": \"number\",\n        \"std\": 12647,\n        \"min\": 3,\n        \"max\": 112151,\n        \"num_unique_values\": 433,\n        \"samples\": [\n          21117,\n          20398,\n          112151\n        ],\n        \"semantic_type\": \"\",\n        \"description\": \"\"\n      }\n    },\n    {\n      \"column\": \"Milk\",\n      \"properties\": {\n        \"dtype\": \"number\",\n        \"std\": 7380,\n        \"min\": 55,\n        \"max\": 73498,\n        \"num_unique_values\": 421,\n        \"samples\": [\n          8384,\n          7184,\n          7845\n        ],\n        \"semantic_type\": \"\",\n        \"description\": \"\"\n      }\n    },\n    {\n      \"column\": \"Grocery\",\n      \"properties\": {\n        \"dtype\": \"number\",\n        \"std\": 9503,\n        \"min\": 3,\n        \"max\": 92780,\n        \"num_unique_values\": 430,\n        \"samples\": [\n          5160,\n          3,\n          4945\n        ],\n        \"semantic_type\": \"\",\n        \"description\": \"\"\n      }\n    },\n    {\n      \"column\": \"Frozen\",\n      \"properties\": {\n        \"dtype\": \"number\",\n        \"std\": 4854,\n        \"min\": 25,\n        \"max\": 60869,\n        \"num_unique_values\": 426,\n        \"samples\": [\n          269,\n          7530,\n          1152\n        ],\n        \"semantic_type\": \"\",\n        \"description\": \"\"\n      }\n    },\n    {\n      \"column\": \"Detergents_Paper\",\n      \"properties\": {\n        \"dtype\": \"number\",\n        \"std\": 4767,\n        \"min\": 3,\n        \"max\": 40827,\n        \"num_unique_values\": 417,\n        \"samples\": [\n          302,\n          6740,\n          1328\n        ],\n        \"semantic_type\": \"\",\n        \"description\": \"\"\n      }\n    },\n    {\n      \"column\": \"delicatessen\",\n      \"properties\": {\n        \"dtype\": \"number\",\n        \"std\": 2820,\n        \"min\": 3,\n        \"max\": 47943,\n        \"num_unique_values\": 403,\n        \"samples\": [\n          14472,\n          172,\n          59\n        ],\n        \"semantic_type\": \"\",\n        \"description\": \"\"\n      }\n    }\n  ]\n}"
            }
          },
          "metadata": {},
          "execution_count": 11
        }
      ],
      "source": [
        "df = df.drop_duplicates()\n",
        "df.head()"
      ]
    },
    {
      "cell_type": "code",
      "execution_count": null,
      "metadata": {
        "execution": {
          "iopub.execute_input": "2020-11-27T11:52:31.968742Z",
          "iopub.status.busy": "2020-11-27T11:52:31.968146Z",
          "iopub.status.idle": "2020-11-27T11:52:31.974209Z",
          "shell.execute_reply": "2020-11-27T11:52:31.973613Z"
        },
        "id": "2gMM4lb0Vzor",
        "outputId": "7ec9afec-7f17-4f2f-cd31-7c0631b6f41c",
        "papermill": {
          "duration": 0.045247,
          "end_time": "2020-11-27T11:52:31.974315",
          "exception": false,
          "start_time": "2020-11-27T11:52:31.929068",
          "status": "completed"
        },
        "tags": [],
        "colab": {
          "base_uri": "https://localhost:8080/"
        }
      },
      "outputs": [
        {
          "output_type": "execute_result",
          "data": {
            "text/plain": [
              "Region              440\n",
              "Fresh               440\n",
              "Milk                440\n",
              "Grocery             440\n",
              "Frozen              440\n",
              "Detergents_Paper    440\n",
              "delicatessen        440\n",
              "dtype: int64"
            ]
          },
          "metadata": {},
          "execution_count": 12
        }
      ],
      "source": [
        "df.count()"
      ]
    },
    {
      "cell_type": "markdown",
      "metadata": {
        "id": "zCLUdZOQ1PDP",
        "papermill": {
          "duration": 0.032655,
          "end_time": "2020-11-27T11:52:32.040143",
          "exception": false,
          "start_time": "2020-11-27T11:52:32.007488",
          "status": "completed"
        },
        "tags": []
      },
      "source": [
        "\n",
        "\n",
        "---\n",
        "\n"
      ]
    },
    {
      "cell_type": "markdown",
      "metadata": {
        "id": "JkXUQtyQW3Dy",
        "papermill": {
          "duration": 0.033049,
          "end_time": "2020-11-27T11:52:32.106118",
          "exception": false,
          "start_time": "2020-11-27T11:52:32.073069",
          "status": "completed"
        },
        "tags": []
      },
      "source": [
        "## 7. Dropping the missing or null values."
      ]
    },
    {
      "cell_type": "markdown",
      "metadata": {
        "id": "K5pKvJi41YCp",
        "papermill": {
          "duration": 0.033171,
          "end_time": "2020-11-27T11:52:32.173467",
          "exception": false,
          "start_time": "2020-11-27T11:52:32.140296",
          "status": "completed"
        },
        "tags": []
      },
      "source": [
        "This is mostly similar to the previous step but in here all the missing values are detected and are dropped later. Now, this is not a good approach to do so, because many people just replace the missing values with the mean or the average of that column, but in this case, I just dropped that missing values."
      ]
    },
    {
      "cell_type": "code",
      "execution_count": null,
      "metadata": {
        "execution": {
          "iopub.execute_input": "2020-11-27T11:52:32.247260Z",
          "iopub.status.busy": "2020-11-27T11:52:32.246296Z",
          "iopub.status.idle": "2020-11-27T11:52:32.251941Z",
          "shell.execute_reply": "2020-11-27T11:52:32.251446Z"
        },
        "id": "Tzdlg-1OWjMz",
        "outputId": "1726d261-ccfa-4bd7-c668-440a3325155d",
        "papermill": {
          "duration": 0.045703,
          "end_time": "2020-11-27T11:52:32.252054",
          "exception": false,
          "start_time": "2020-11-27T11:52:32.206351",
          "status": "completed"
        },
        "tags": [],
        "colab": {
          "base_uri": "https://localhost:8080/"
        }
      },
      "outputs": [
        {
          "output_type": "stream",
          "name": "stdout",
          "text": [
            "Region              0\n",
            "Fresh               0\n",
            "Milk                0\n",
            "Grocery             0\n",
            "Frozen              0\n",
            "Detergents_Paper    0\n",
            "delicatessen        0\n",
            "dtype: int64\n"
          ]
        }
      ],
      "source": [
        "print(df.isnull().sum())"
      ]
    },
    {
      "cell_type": "code",
      "execution_count": null,
      "metadata": {
        "execution": {
          "iopub.execute_input": "2020-11-27T11:52:32.393563Z",
          "iopub.status.busy": "2020-11-27T11:52:32.392780Z",
          "iopub.status.idle": "2020-11-27T11:52:32.424245Z",
          "shell.execute_reply": "2020-11-27T11:52:32.423583Z"
        },
        "id": "KbbV0xHPWoad",
        "outputId": "15d17a4a-6f08-4bbb-b0df-dc508bdb9f96",
        "papermill": {
          "duration": 0.071586,
          "end_time": "2020-11-27T11:52:32.424366",
          "exception": false,
          "start_time": "2020-11-27T11:52:32.352780",
          "status": "completed"
        },
        "tags": [],
        "colab": {
          "base_uri": "https://localhost:8080/"
        }
      },
      "outputs": [
        {
          "output_type": "execute_result",
          "data": {
            "text/plain": [
              "Region              440\n",
              "Fresh               440\n",
              "Milk                440\n",
              "Grocery             440\n",
              "Frozen              440\n",
              "Detergents_Paper    440\n",
              "delicatessen        440\n",
              "dtype: int64"
            ]
          },
          "metadata": {},
          "execution_count": 14
        }
      ],
      "source": [
        "df = df.dropna()    # Dropping the missing values.\n",
        "df.count()"
      ]
    },
    {
      "cell_type": "markdown",
      "metadata": {
        "id": "2t7L9l2mJSoX",
        "papermill": {
          "duration": 0.033726,
          "end_time": "2020-11-27T11:52:32.496715",
          "exception": false,
          "start_time": "2020-11-27T11:52:32.462989",
          "status": "completed"
        },
        "tags": []
      },
      "source": [
        "Now we have removed all the rows which contain the Null or N/A values (Cylinders and Horsepower (HP))."
      ]
    },
    {
      "cell_type": "code",
      "execution_count": null,
      "metadata": {
        "execution": {
          "iopub.execute_input": "2020-11-27T11:52:32.571710Z",
          "iopub.status.busy": "2020-11-27T11:52:32.571093Z",
          "iopub.status.idle": "2020-11-27T11:52:32.575569Z",
          "shell.execute_reply": "2020-11-27T11:52:32.576056Z"
        },
        "id": "V-DmX1O4Wtox",
        "outputId": "ce2498a4-04ae-4c55-8ec7-ca03a5f4a3b8",
        "papermill": {
          "duration": 0.045646,
          "end_time": "2020-11-27T11:52:32.576197",
          "exception": false,
          "start_time": "2020-11-27T11:52:32.530551",
          "status": "completed"
        },
        "tags": [],
        "colab": {
          "base_uri": "https://localhost:8080/"
        }
      },
      "outputs": [
        {
          "output_type": "stream",
          "name": "stdout",
          "text": [
            "Region              0\n",
            "Fresh               0\n",
            "Milk                0\n",
            "Grocery             0\n",
            "Frozen              0\n",
            "Detergents_Paper    0\n",
            "delicatessen        0\n",
            "dtype: int64\n"
          ]
        }
      ],
      "source": [
        "print(df.isnull().sum())   # After dropping the values"
      ]
    },
    {
      "cell_type": "markdown",
      "metadata": {
        "id": "bk8RAHqQJVJK",
        "papermill": {
          "duration": 0.033656,
          "end_time": "2020-11-27T11:52:32.644093",
          "exception": false,
          "start_time": "2020-11-27T11:52:32.610437",
          "status": "completed"
        },
        "tags": []
      },
      "source": [
        "\n",
        "\n",
        "---\n",
        "\n"
      ]
    },
    {
      "cell_type": "markdown",
      "metadata": {
        "id": "8Py3sQc_ZxyU",
        "papermill": {
          "duration": 0.034018,
          "end_time": "2020-11-27T11:52:32.712147",
          "exception": false,
          "start_time": "2020-11-27T11:52:32.678129",
          "status": "completed"
        },
        "tags": []
      },
      "source": [
        "## 8. Detecting Outliers"
      ]
    },
    {
      "cell_type": "markdown",
      "metadata": {
        "id": "1g6CJPofZzHN",
        "papermill": {
          "duration": 0.033631,
          "end_time": "2020-11-27T11:52:32.779927",
          "exception": false,
          "start_time": "2020-11-27T11:52:32.746296",
          "status": "completed"
        },
        "tags": []
      },
      "source": [
        "An outlier is a point or set of points that are different from other points. Sometimes they can be very high or very low. It's often a good idea to detect and remove the outliers. Because outliers are one of the primary reasons for resulting in a less accurate model.\n"
      ]
    },
    {
      "cell_type": "markdown",
      "source": [
        "![1_0MPDTLn8KoLApoFvI0P2vQ (1).png](data:image/png;base64,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)"
      ],
      "metadata": {
        "id": "V5Ctr4HspjvR"
      }
    },
    {
      "cell_type": "code",
      "execution_count": null,
      "metadata": {
        "execution": {
          "iopub.execute_input": "2020-11-27T11:52:33.179459Z",
          "iopub.status.busy": "2020-11-27T11:52:33.178064Z",
          "iopub.status.idle": "2020-11-27T11:52:33.370107Z",
          "shell.execute_reply": "2020-11-27T11:52:33.369534Z"
        },
        "id": "9HtvQYVHZ8u5",
        "outputId": "860122de-f9d1-4d82-ef90-a544153c8d9d",
        "papermill": {
          "duration": 0.237157,
          "end_time": "2020-11-27T11:52:33.370221",
          "exception": false,
          "start_time": "2020-11-27T11:52:33.133064",
          "status": "completed"
        },
        "tags": [],
        "colab": {
          "base_uri": "https://localhost:8080/",
          "height": 467
        }
      },
      "outputs": [
        {
          "output_type": "execute_result",
          "data": {
            "text/plain": [
              "<Axes: xlabel='Milk'>"
            ]
          },
          "metadata": {},
          "execution_count": 17
        },
        {
          "output_type": "display_data",
          "data": {
            "text/plain": [
              "<Figure size 640x480 with 1 Axes>"
            ],
            "image/png": "[encoded data removed]"
          },
          "metadata": {}
        }
      ],
      "source": [
        "sns.boxplot(x=df['Milk'])"
      ]
    },
    {
      "cell_type": "code",
      "execution_count": null,
      "metadata": {
        "execution": {
          "iopub.execute_input": "2020-11-27T11:52:32.853465Z",
          "iopub.status.busy": "2020-11-27T11:52:32.852781Z",
          "iopub.status.idle": "2020-11-27T11:52:33.096979Z",
          "shell.execute_reply": "2020-11-27T11:52:33.096361Z"
        },
        "id": "vtxX_y6zZ2ri",
        "outputId": "ac909f6b-557c-4475-9c03-84b3784bb51b",
        "papermill": {
          "duration": 0.283132,
          "end_time": "2020-11-27T11:52:33.097091",
          "exception": false,
          "start_time": "2020-11-27T11:52:32.813959",
          "status": "completed"
        },
        "tags": [],
        "colab": {
          "base_uri": "https://localhost:8080/",
          "height": 467
        }
      },
      "outputs": [
        {
          "output_type": "execute_result",
          "data": {
            "text/plain": [
              "<Axes: xlabel='Fresh'>"
            ]
          },
          "metadata": {},
          "execution_count": 18
        },
        {
          "output_type": "display_data",
          "data": {
            "text/plain": [
              "<Figure size 640x480 with 1 Axes>"
            ],
            "image/png": "[encoded data removed]"
          },
          "metadata": {}
        }
      ],
      "source": [
        "sns.boxplot(x=df['Fresh'])"
      ]
    },
    {
      "cell_type": "markdown",
      "metadata": {
        "id": "WqFPRda8eEp_",
        "papermill": {
          "duration": 0.038833,
          "end_time": "2020-11-27T11:52:34.169033",
          "exception": false,
          "start_time": "2020-11-27T11:52:34.130200",
          "status": "completed"
        },
        "tags": []
      },
      "source": [
        "## 9. Plot different features against one another"
      ]
    },
    {
      "cell_type": "markdown",
      "metadata": {
        "id": "Z-W6Q9-hJosZ",
        "papermill": {
          "duration": 0.037659,
          "end_time": "2020-11-27T11:52:34.244690",
          "exception": false,
          "start_time": "2020-11-27T11:52:34.207031",
          "status": "completed"
        },
        "tags": []
      },
      "source": [
        "### Histogram\n",
        "\n",
        "Histogram refers to the frequency of occurrence of variables in an interval. In this case, there are many different types of feature, but it is often important to know who has the most number feature. To do this histogram is one of the trivial solutions which lets us know the customer data with different intrest."
      ]
    },
    {
      "cell_type": "code",
      "source": [
        "plt.figure(figsize=(10,6))\n",
        "sns.histplot(df['Grocery'])"
      ],
      "metadata": {
        "colab": {
          "base_uri": "https://localhost:8080/",
          "height": 561
        },
        "id": "L7P0oOtCse1q",
        "outputId": "05dece4d-4d92-41f9-b22e-01cf0b4d6b39"
      },
      "execution_count": 10,
      "outputs": [
        {
          "output_type": "execute_result",
          "data": {
            "text/plain": [
              "<Axes: xlabel='Grocery', ylabel='Count'>"
            ]
          },
          "metadata": {},
          "execution_count": 10
        },
        {
          "output_type": "display_data",
          "data": {
            "text/plain": [
              "<Figure size 1000x600 with 1 Axes>"
            ],
            "image/png": "[encoded data removed]"
          },
          "metadata": {}
        }
      ]
    },
    {
      "cell_type": "markdown",
      "metadata": {
        "id": "1ROThOLQfRZw",
        "papermill": {
          "duration": 0.041995,
          "end_time": "2020-11-27T11:52:35.626197",
          "exception": false,
          "start_time": "2020-11-27T11:52:35.584202",
          "status": "completed"
        },
        "tags": []
      },
      "source": [
        "### Scatterplot\n",
        "\n",
        "We generally use scatter plots to find the correlation between two variables. Here the scatter plots are plotted between Horsepower and Price and we can see the plot below. With the plot given below, we can easily draw a trend line. These features provide a good scattering of points."
      ]
    },
    {
      "cell_type": "code",
      "source": [
        "plt.figure(figsize=(10,6))\n",
        "sns.scatterplot(x=df['Grocery'], y=df['Region'])"
      ],
      "metadata": {
        "colab": {
          "base_uri": "https://localhost:8080/",
          "height": 559
        },
        "id": "uC4CUI6y24bh",
        "outputId": "5b78ffcb-45f6-4eef-b95a-7ccdab782a22"
      },
      "execution_count": 12,
      "outputs": [
        {
          "output_type": "execute_result",
          "data": {
            "text/plain": [
              "<Axes: xlabel='Grocery', ylabel='Region'>"
            ]
          },
          "metadata": {},
          "execution_count": 12
        },
        {
          "output_type": "display_data",
          "data": {
            "text/plain": [
              "<Figure size 1000x600 with 1 Axes>"
            ],
            "image/png": "[encoded data removed]"
          },
          "metadata": {}
        }
      ]
    },
    {
      "cell_type": "code",
      "source": [
        "plt.figure(figsize=(10,6))\n",
        "sns.lineplot(x=df['Region'],y=df['Grocery'])"
      ],
      "metadata": {
        "colab": {
          "base_uri": "https://localhost:8080/",
          "height": 559
        },
        "id": "z2R-b5WrfVJ1",
        "outputId": "4883e0b2-76d6-4709-9e90-95c5ae687ae8"
      },
      "execution_count": 13,
      "outputs": [
        {
          "output_type": "execute_result",
          "data": {
            "text/plain": [
              "<Axes: xlabel='Region', ylabel='Grocery'>"
            ]
          },
          "metadata": {},
          "execution_count": 13
        },
        {
          "output_type": "display_data",
          "data": {
            "text/plain": [
              "<Figure size 1000x600 with 1 Axes>"
            ],
            "image/png": "[encoded data removed]"
          },
          "metadata": {}
        }
      ]
    },
    {
      "cell_type": "markdown",
      "metadata": {
        "id": "c37WtYYWJuAQ",
        "papermill": {
          "duration": 0.04046,
          "end_time": "2020-11-27T11:52:35.081261",
          "exception": false,
          "start_time": "2020-11-27T11:52:35.040801",
          "status": "completed"
        },
        "tags": []
      },
      "source": [
        "### Heat Maps\n",
        "\n",
        "Heat Maps is a type of plot which is necessary when we need to find the dependent variables. One of the best way to find the relationship between the features can be done using heat maps."
      ]
    },
    {
      "cell_type": "code",
      "execution_count": 14,
      "metadata": {
        "execution": {
          "iopub.execute_input": "2020-11-27T11:52:35.171817Z",
          "iopub.status.busy": "2020-11-27T11:52:35.170966Z",
          "iopub.status.idle": "2020-11-27T11:52:35.541204Z",
          "shell.execute_reply": "2020-11-27T11:52:35.540448Z"
        },
        "id": "yhHfLVTj6nmy",
        "outputId": "c8492e7a-4f32-4067-cb21-2a8f7f2226a7",
        "papermill": {
          "duration": 0.419422,
          "end_time": "2020-11-27T11:52:35.541316",
          "exception": false,
          "start_time": "2020-11-27T11:52:35.121894",
          "status": "completed"
        },
        "tags": [],
        "colab": {
          "base_uri": "https://localhost:8080/",
          "height": 578
        }
      },
      "outputs": [
        {
          "output_type": "execute_result",
          "data": {
            "text/plain": [
              "<Axes: >"
            ]
          },
          "metadata": {},
          "execution_count": 14
        },
        {
          "output_type": "display_data",
          "data": {
            "text/plain": [
              "<Figure size 1000x500 with 2 Axes>"
            ],
            "image/png": "[encoded data removed]"
          },
          "metadata": {}
        }
      ],
      "source": [
        "plt.figure(figsize=(10,5))\n",
        "c= df.corr(numeric_only=True)\n",
        "sns.heatmap(c,annot=True)"
      ]
    }
  ],
  "metadata": {
    "kernelspec": {
      "display_name": "Python 3",
      "language": "python",
      "name": "python3"
    },
    "language_info": {
      "codemirror_mode": {
        "name": "ipython",
        "version": 3
      },
      "file_extension": ".py",
      "mimetype": "text/x-python",
      "name": "python",
      "nbconvert_exporter": "python",
      "pygments_lexer": "ipython3",
      "version": "3.7.6"
    },
    "papermill": {
      "duration": 12.885345,
      "end_time": "2020-11-27T11:52:37.154623",
      "environment_variables": {},
      "exception": null,
      "input_path": "__notebook__.ipynb",
      "output_path": "__notebook__.ipynb",
      "parameters": {},
      "start_time": "2020-11-27T11:52:24.269278",
      "version": "2.1.0"
    },
    "colab": {
      "provenance": [],
      "include_colab_link": true
    }
  },
  "nbformat": 4,
  "nbformat_minor": 0
}